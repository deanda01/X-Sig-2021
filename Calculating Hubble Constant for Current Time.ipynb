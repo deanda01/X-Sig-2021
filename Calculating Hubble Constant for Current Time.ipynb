{
 "cells": [
  {
   "cell_type": "code",
   "execution_count": 6,
   "id": "785d88cb",
   "metadata": {},
   "outputs": [],
   "source": [
    "import h5py"
   ]
  },
  {
   "cell_type": "code",
   "execution_count": 22,
   "id": "24c5d93f",
   "metadata": {},
   "outputs": [],
   "source": [
    "import math"
   ]
  },
  {
   "cell_type": "code",
   "execution_count": 8,
   "id": "1918a222",
   "metadata": {},
   "outputs": [],
   "source": [
    "f = h5py.File('snap_099.0.hdf5', 'r')"
   ]
  },
  {
   "cell_type": "code",
   "execution_count": 9,
   "id": "65e14a00",
   "metadata": {},
   "outputs": [
    {
     "data": {
      "text/plain": [
       "['Config',\n",
       " 'Header',\n",
       " 'Parameters',\n",
       " 'PartType0',\n",
       " 'PartType1',\n",
       " 'PartType3',\n",
       " 'PartType4',\n",
       " 'PartType5']"
      ]
     },
     "execution_count": 9,
     "metadata": {},
     "output_type": "execute_result"
    }
   ],
   "source": [
    "list(f.keys())"
   ]
  },
  {
   "cell_type": "code",
   "execution_count": 10,
   "id": "f6313ae6",
   "metadata": {},
   "outputs": [],
   "source": [
    "dset = f['Header']"
   ]
  },
  {
   "cell_type": "code",
   "execution_count": 11,
   "id": "6d968b6d",
   "metadata": {},
   "outputs": [
    {
     "data": {
      "text/plain": [
       "0.9999999999999998"
      ]
     },
     "execution_count": 11,
     "metadata": {},
     "output_type": "execute_result"
    }
   ],
   "source": [
    "sc = dset.attrs['Time']\n",
    "sc"
   ]
  },
  {
   "cell_type": "code",
   "execution_count": 16,
   "id": "bd187f96",
   "metadata": {},
   "outputs": [
    {
     "data": {
      "text/plain": [
       "0.3089"
      ]
     },
     "execution_count": 16,
     "metadata": {},
     "output_type": "execute_result"
    }
   ],
   "source": [
    "dset.attrs['Omega0']\n",
    "omega_o = dset.attrs['Omega0']\n",
    "omega_o\n"
   ]
  },
  {
   "cell_type": "code",
   "execution_count": 17,
   "id": "197df5d1",
   "metadata": {},
   "outputs": [
    {
     "data": {
      "text/plain": [
       "0.6911"
      ]
     },
     "execution_count": 17,
     "metadata": {},
     "output_type": "execute_result"
    }
   ],
   "source": [
    "dset.attrs['OmegaLambda']\n",
    "omega_lam = dset.attrs['OmegaLambda']\n",
    "omega_lam"
   ]
  },
  {
   "cell_type": "code",
   "execution_count": 19,
   "id": "4d170b01",
   "metadata": {},
   "outputs": [
    {
     "data": {
      "text/plain": [
       "1.0000000000000002"
      ]
     },
     "execution_count": 19,
     "metadata": {},
     "output_type": "execute_result"
    }
   ],
   "source": [
    "ratio = omega_o/(sc**3) + omega_lam\n",
    "ratio"
   ]
  },
  {
   "cell_type": "code",
   "execution_count": 20,
   "id": "5251b1d6",
   "metadata": {},
   "outputs": [
    {
     "data": {
      "text/plain": [
       "5041.000000000001"
      ]
     },
     "execution_count": 20,
     "metadata": {},
     "output_type": "execute_result"
    }
   ],
   "source": [
    "hubble_squared = (71**2)*ratio\n",
    "hubble_squared"
   ]
  },
  {
   "cell_type": "code",
   "execution_count": 23,
   "id": "25cd0c05",
   "metadata": {},
   "outputs": [
    {
     "data": {
      "text/plain": [
       "71.0"
      ]
     },
     "execution_count": 23,
     "metadata": {},
     "output_type": "execute_result"
    }
   ],
   "source": [
    "hubble = math.sqrt(hubble_squared)\n",
    "hubble"
   ]
  },
  {
   "cell_type": "code",
   "execution_count": null,
   "id": "b2459891",
   "metadata": {},
   "outputs": [],
   "source": []
  }
 ],
 "metadata": {
  "kernelspec": {
   "display_name": "Python 3",
   "language": "python",
   "name": "python3"
  },
  "language_info": {
   "codemirror_mode": {
    "name": "ipython",
    "version": 3
   },
   "file_extension": ".py",
   "mimetype": "text/x-python",
   "name": "python",
   "nbconvert_exporter": "python",
   "pygments_lexer": "ipython3",
   "version": "3.8.8"
  }
 },
 "nbformat": 4,
 "nbformat_minor": 5
}
