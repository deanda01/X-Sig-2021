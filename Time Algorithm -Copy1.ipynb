{
 "cells": [
  {
   "cell_type": "code",
   "execution_count": 89,
   "id": "34b9675b",
   "metadata": {},
   "outputs": [],
   "source": [
    "%reset -f \n",
    "# This command resets the kernel."
   ]
  },
  {
   "cell_type": "code",
   "execution_count": 90,
   "id": "8d63e07f",
   "metadata": {},
   "outputs": [
    {
     "data": {
      "text/plain": [
       "'/Users/david/Downloads'"
      ]
     },
     "execution_count": 90,
     "metadata": {},
     "output_type": "execute_result"
    }
   ],
   "source": [
    "pwd"
   ]
  },
  {
   "cell_type": "code",
   "execution_count": null,
   "id": "4f1f2e54",
   "metadata": {},
   "outputs": [],
   "source": []
  },
  {
   "cell_type": "code",
   "execution_count": 91,
   "id": "57dd300a",
   "metadata": {},
   "outputs": [],
   "source": [
    "import sys\n",
    "# the mock-0.3.1 dir contains testcase.py, testutils.py & mock.py\n",
    "sys.path.append('/Users/David/downloads')\n",
    "import illustris_python.snapshot2 as ilsnap"
   ]
  },
  {
   "cell_type": "code",
   "execution_count": 92,
   "id": "b91aaea8",
   "metadata": {},
   "outputs": [],
   "source": [
    "import illustris_python as il\n",
    "import numpy\n",
    "import random as rand\n",
    "import matplotlib.pyplot as plot\n",
    "from mpl_toolkits.mplot3d import axes3d  \n",
    "import math"
   ]
  },
  {
   "cell_type": "code",
   "execution_count": 93,
   "id": "7e1e83eb",
   "metadata": {},
   "outputs": [],
   "source": [
    "basePath = '/Users/david/Downloads'"
   ]
  },
  {
   "cell_type": "code",
   "execution_count": 94,
   "id": "a00a0f32",
   "metadata": {},
   "outputs": [],
   "source": [
    "snapNum = 800 #Defines snapshot number we are currently using"
   ]
  },
  {
   "cell_type": "code",
   "execution_count": 96,
   "id": "ad223b9f",
   "metadata": {},
   "outputs": [
    {
     "ename": "TypeError",
     "evalue": "can only concatenate str (not \"int\") to str",
     "output_type": "error",
     "traceback": [
      "\u001b[0;31m---------------------------------------------------------------------------\u001b[0m",
      "\u001b[0;31mTypeError\u001b[0m                                 Traceback (most recent call last)",
      "\u001b[0;32m<ipython-input-96-e8e88feb5343>\u001b[0m in \u001b[0;36m<module>\u001b[0;34m\u001b[0m\n\u001b[0;32m----> 1\u001b[0;31m \u001b[0mdm\u001b[0m \u001b[0;34m=\u001b[0m \u001b[0milsnap\u001b[0m\u001b[0;34m.\u001b[0m\u001b[0mloadSubset\u001b[0m\u001b[0;34m(\u001b[0m\u001b[0mbasePath\u001b[0m\u001b[0;34m,\u001b[0m \u001b[0msnapNum\u001b[0m\u001b[0;34m,\u001b[0m\u001b[0;34m\"DM\"\u001b[0m\u001b[0;34m,\u001b[0m \u001b[0mfields\u001b[0m\u001b[0;34m=\u001b[0m\u001b[0;34m[\u001b[0m\u001b[0;34m'Coordinates'\u001b[0m\u001b[0;34m]\u001b[0m\u001b[0;34m)\u001b[0m\u001b[0;34m\u001b[0m\u001b[0;34m\u001b[0m\u001b[0m\n\u001b[0m",
      "\u001b[0;32m~/Downloads/illustris_python/snapshot2.py\u001b[0m in \u001b[0;36mloadSubset\u001b[0;34m(basePath, snapNum, partType, fields, subset, mdi, sq, float32)\u001b[0m\n\u001b[1;32m     51\u001b[0m \u001b[0;34m\u001b[0m\u001b[0m\n\u001b[1;32m     52\u001b[0m     \u001b[0;31m# load header from first chunk\u001b[0m\u001b[0;34m\u001b[0m\u001b[0;34m\u001b[0m\u001b[0;34m\u001b[0m\u001b[0m\n\u001b[0;32m---> 53\u001b[0;31m     \u001b[0;32mwith\u001b[0m \u001b[0mh5py\u001b[0m\u001b[0;34m.\u001b[0m\u001b[0mFile\u001b[0m\u001b[0;34m(\u001b[0m\u001b[0msnapPath\u001b[0m\u001b[0;34m(\u001b[0m\u001b[0mbasePath\u001b[0m\u001b[0;34m,\u001b[0m \u001b[0msnapNum\u001b[0m\u001b[0;34m)\u001b[0m\u001b[0;34m,\u001b[0m \u001b[0;34m'r'\u001b[0m\u001b[0;34m)\u001b[0m \u001b[0;32mas\u001b[0m \u001b[0mf\u001b[0m\u001b[0;34m:\u001b[0m\u001b[0;34m\u001b[0m\u001b[0;34m\u001b[0m\u001b[0m\n\u001b[0m\u001b[1;32m     54\u001b[0m \u001b[0;34m\u001b[0m\u001b[0m\n\u001b[1;32m     55\u001b[0m         \u001b[0mheader\u001b[0m \u001b[0;34m=\u001b[0m \u001b[0mdict\u001b[0m\u001b[0;34m(\u001b[0m\u001b[0mf\u001b[0m\u001b[0;34m[\u001b[0m\u001b[0;34m'Header'\u001b[0m\u001b[0;34m]\u001b[0m\u001b[0;34m.\u001b[0m\u001b[0mattrs\u001b[0m\u001b[0;34m.\u001b[0m\u001b[0mitems\u001b[0m\u001b[0;34m(\u001b[0m\u001b[0;34m)\u001b[0m\u001b[0;34m)\u001b[0m\u001b[0;34m\u001b[0m\u001b[0;34m\u001b[0m\u001b[0m\n",
      "\u001b[0;32m~/Downloads/illustris_python/snapshot2.py\u001b[0m in \u001b[0;36msnapPath\u001b[0;34m(basePath, snapNum, chunkNum)\u001b[0m\n\u001b[1;32m     17\u001b[0m \u001b[0;34m\u001b[0m\u001b[0m\n\u001b[1;32m     18\u001b[0m     \u001b[0;31m#filePath += '.' + str(chunkNum) + '.hdf5'\u001b[0m\u001b[0;34m\u001b[0m\u001b[0;34m\u001b[0m\u001b[0;34m\u001b[0m\u001b[0m\n\u001b[0;32m---> 19\u001b[0;31m     \u001b[0mfilePath\u001b[0m \u001b[0;34m+=\u001b[0m \u001b[0;34m'-'\u001b[0m \u001b[0;34m+\u001b[0m \u001b[0mstr\u001b[0m\u001b[0;34m(\u001b[0m\u001b[0;36m1\u001b[0m\u001b[0;34m)\u001b[0m \u001b[0;34m+\u001b[0m\u001b[0;34m'.hdf5'\u001b[0m\u001b[0;34m\u001b[0m\u001b[0;34m\u001b[0m\u001b[0m\n\u001b[0m\u001b[1;32m     20\u001b[0m     \u001b[0;32mreturn\u001b[0m \u001b[0mfilePath\u001b[0m\u001b[0;34m\u001b[0m\u001b[0;34m\u001b[0m\u001b[0m\n\u001b[1;32m     21\u001b[0m \u001b[0;34m\u001b[0m\u001b[0m\n",
      "\u001b[0;31mTypeError\u001b[0m: can only concatenate str (not \"int\") to str"
     ]
    }
   ],
   "source": [
    "dm = ilsnap.loadSubset(basePath, snapNum,\"DM\", fields=['Coordinates'])"
   ]
  },
  {
   "cell_type": "code",
   "execution_count": 74,
   "id": "7b835a74",
   "metadata": {},
   "outputs": [
    {
     "ename": "NameError",
     "evalue": "name 'dm' is not defined",
     "output_type": "error",
     "traceback": [
      "\u001b[0;31m---------------------------------------------------------------------------\u001b[0m",
      "\u001b[0;31mNameError\u001b[0m                                 Traceback (most recent call last)",
      "\u001b[0;32m<ipython-input-74-8396452b716c>\u001b[0m in \u001b[0;36m<module>\u001b[0;34m\u001b[0m\n\u001b[0;32m----> 1\u001b[0;31m \u001b[0mdm\u001b[0m\u001b[0;34m\u001b[0m\u001b[0;34m\u001b[0m\u001b[0m\n\u001b[0m",
      "\u001b[0;31mNameError\u001b[0m: name 'dm' is not defined"
     ]
    }
   ],
   "source": [
    "dm"
   ]
  },
  {
   "cell_type": "code",
   "execution_count": 4,
   "id": "7b4a9ea3",
   "metadata": {},
   "outputs": [
    {
     "ename": "NameError",
     "evalue": "name 'ilsnap' is not defined",
     "output_type": "error",
     "traceback": [
      "\u001b[0;31m---------------------------------------------------------------------------\u001b[0m",
      "\u001b[0;31mNameError\u001b[0m                                 Traceback (most recent call last)",
      "\u001b[0;32m<ipython-input-4-b9f8aa879bc8>\u001b[0m in \u001b[0;36m<module>\u001b[0;34m\u001b[0m\n\u001b[0;32m----> 1\u001b[0;31m \u001b[0mcorr_fullbox\u001b[0m \u001b[0;34m=\u001b[0m \u001b[0milsnap\u001b[0m\u001b[0;34m.\u001b[0m\u001b[0mloadSubset\u001b[0m\u001b[0;34m(\u001b[0m\u001b[0mbasePath\u001b[0m\u001b[0;34m,\u001b[0m \u001b[0msnapNum\u001b[0m\u001b[0;34m,\u001b[0m \u001b[0;34m\"DM\"\u001b[0m\u001b[0;34m,\u001b[0m \u001b[0mfields\u001b[0m\u001b[0;34m=\u001b[0m\u001b[0;34m[\u001b[0m\u001b[0;34m'FullBoxSnapNum'\u001b[0m\u001b[0;34m]\u001b[0m\u001b[0;34m)\u001b[0m\u001b[0;34m\u001b[0m\u001b[0;34m\u001b[0m\u001b[0m\n\u001b[0m",
      "\u001b[0;31mNameError\u001b[0m: name 'ilsnap' is not defined"
     ]
    }
   ],
   "source": [
    "corr_fullbox = ilsnap.loadSubset(basePath, snapNum, \"DM\", fields=['FullBoxSnapNum'])"
   ]
  },
  {
   "cell_type": "code",
   "execution_count": 80,
   "id": "7ee8db9e",
   "metadata": {},
   "outputs": [],
   "source": [
    "#dm = il.snapshot.loadSubset(basePath, snapNum,\"DM\", fields=['SubhaloIDs'])"
   ]
  },
  {
   "cell_type": "code",
   "execution_count": 2,
   "id": "e47d4f62",
   "metadata": {},
   "outputs": [],
   "source": [
    "#ls /Users/david/Downloads/snapdir_800/snap_subbox1_800.0.hdf5"
   ]
  },
  {
   "cell_type": "code",
   "execution_count": 3,
   "id": "d7cff47a",
   "metadata": {},
   "outputs": [],
   "source": [
    "#il.snapshot.snapPath(basePath, snapNum, chunkNum=1)"
   ]
  },
  {
   "cell_type": "code",
   "execution_count": 10,
   "id": "3484ae32",
   "metadata": {},
   "outputs": [],
   "source": [
    "from scipy import constants #Obtaining the speed of light from scipy constants to calculate times later. \n",
    "c = constants.c"
   ]
  },
  {
   "cell_type": "code",
   "execution_count": null,
   "id": "c6b92a1a",
   "metadata": {},
   "outputs": [],
   "source": [
    "snap_cord =  "
   ]
  },
  {
   "cell_type": "code",
   "execution_count": null,
   "id": "d87825dc",
   "metadata": {},
   "outputs": [],
   "source": [
    "z = #In here will go the center of mass of the halo "
   ]
  },
  {
   "cell_type": "code",
   "execution_count": null,
   "id": "8a54ac71",
   "metadata": {},
   "outputs": [],
   "source": [
    "d = []\n",
    "for i in range(len()):\n",
    "    diff = snap_cord['SubhaloCM'][i:i+1,2]-z\n",
    "    d.append(diff)\n",
    "    \n",
    "#This calculates the differences between each galaxies z-component and the z-component of the center of mass of the\n",
    "#halo. In other words, we are calculating the difference in position between the central projection axis and each \n",
    "#galaxy along the line of sight. \n",
    "    "
   ]
  },
  {
   "cell_type": "code",
   "execution_count": null,
   "id": "0eeff944",
   "metadata": {},
   "outputs": [],
   "source": [
    "d_km = []\n",
    "for i in range(len(d)):\n",
    "    d_version = d[i]\n",
    "    d_m.append(d_version)\n",
    "\n",
    "\n",
    "\n",
    "#In this cell we will convert the distances to kilometers so that in the following cell when we find time by dividing\n",
    "#distance by the speed of light we will have both distance and speed in the correct coordinates "
   ]
  },
  {
   "cell_type": "code",
   "execution_count": null,
   "id": "3f98e49a",
   "metadata": {},
   "outputs": [],
   "source": [
    "t = []\n",
    "\n",
    "for i in range(len(d)):\n",
    "    t_diff = d[i]/c\n",
    "    t.append(t_diff)\n",
    "\n",
    "#This calculates the time difference along the line of sight between the central projection plane and every subhalo.\n",
    "#We are simply dividing the distance \"d\" by the speed of light \"c\"\n",
    "\n"
   ]
  },
  {
   "cell_type": "code",
   "execution_count": null,
   "id": "8261fc13",
   "metadata": {},
   "outputs": [],
   "source": [
    "t_ big = max(t)  \n",
    "\n",
    "#Finding the maximum time difference in the list of time for light to travel between central plane and a galaxy.\n",
    "\n"
   ]
  },
  {
   "cell_type": "code",
   "execution_count": null,
   "id": "b3630c34",
   "metadata": {},
   "outputs": [],
   "source": [
    "t_ small = min(t)\n",
    "#Finding the minimum time difference in the list of time for light to travel between central plane and a galaxy.\n",
    "#Having both the maximimum and minimum time difference are necessary to know how many snapshots before and after the \n",
    "#the snapshot used for the central plane will be needed to complete the projection alogritihm. This prevents us\n",
    "#from downloading an excessive amount of unnecessary snapshots. "
   ]
  },
  {
   "cell_type": "code",
   "execution_count": null,
   "id": "4af269c7",
   "metadata": {},
   "outputs": [],
   "source": [
    "#In this cell we will create basepaths for all the snapshots we will download to complete the time projection. \n",
    "\n",
    "\n",
    "\n",
    "\n"
   ]
  },
  {
   "cell_type": "code",
   "execution_count": null,
   "id": "3fd1f6c2",
   "metadata": {},
   "outputs": [],
   "source": []
  }
 ],
 "metadata": {
  "kernelspec": {
   "display_name": "Python 3",
   "language": "python",
   "name": "python3"
  },
  "language_info": {
   "codemirror_mode": {
    "name": "ipython",
    "version": 3
   },
   "file_extension": ".py",
   "mimetype": "text/x-python",
   "name": "python",
   "nbconvert_exporter": "python",
   "pygments_lexer": "ipython3",
   "version": "3.8.8"
  }
 },
 "nbformat": 4,
 "nbformat_minor": 5
}
