{
 "cells": [
  {
   "cell_type": "code",
   "execution_count": 1,
   "id": "4a64e496",
   "metadata": {},
   "outputs": [],
   "source": [
    "%reset -f \n",
    "# This command resets the kernel."
   ]
  },
  {
   "cell_type": "code",
   "execution_count": 2,
   "id": "5c658606",
   "metadata": {},
   "outputs": [],
   "source": [
    "import illustris_python as il\n",
    "import numpy\n",
    "import random as rand\n",
    "import matplotlib.pyplot as plot\n",
    "from mpl_toolkits.mplot3d import axes3d  \n",
    "import math\n",
    "import os"
   ]
  },
  {
   "cell_type": "code",
   "execution_count": 4,
   "id": "7e61880b",
   "metadata": {},
   "outputs": [],
   "source": [
    "basePath = '/Users/david/Downloads' # Loads the data for a certain simulation run, in this case TNG100-3-Dark.\n",
    "snapNum = 99 # Defines the snapshot number that is used when reading in the data."
   ]
  },
  {
   "cell_type": "code",
   "execution_count": 45,
   "id": "a4763a69",
   "metadata": {},
   "outputs": [
    {
     "data": {
      "text/plain": [
       "{'count': 94196375,\n",
       " 'Velocities': array([[ -88.18688  , -266.75388  ,  -16.47824  ],\n",
       "        [ -25.844416 , -221.59425  , -156.80574  ],\n",
       "        [  36.122326 , -320.14853  ,  -12.0878935],\n",
       "        ...,\n",
       "        [ 102.97468  ,  147.75105  , -179.23094  ],\n",
       "        [ 277.45642  ,    1.5484225,  117.53938  ],\n",
       "        [ 181.98972  ,   16.617556 ,  -11.09932  ]], dtype=float32),\n",
       " 'Coordinates': array([[  843.99922154, 26357.79010622, 18309.58209558],\n",
       "        [  848.18025182, 26356.28690729, 18309.85631705],\n",
       "        [  844.35707205, 26353.84816751, 18313.78500562],\n",
       "        ...,\n",
       "        [60493.77570956, 49004.46033618, 56941.49036124],\n",
       "        [65913.59362304, 61563.99882039, 46947.4596657 ],\n",
       "        [64115.0072588 , 61436.66139752,   163.32408868]])}"
      ]
     },
     "execution_count": 45,
     "metadata": {},
     "output_type": "execute_result"
    }
   ],
   "source": [
    "dm = il.snapshot.loadSubset(basePath, snapNum, \"DM\", fields=['Velocities', 'Coordinates']) \n",
    "\n",
    "# Loads in the data for the specified criteria. In this case it is loading in the dark matter velocity \n",
    "# data from snapshot 99 of the TNG100-3-Dark run. \n",
    "\n",
    "# The data is organized into 3 columns, with the first, second, and third columns being \n",
    "# for the x, y, and z data resepctively. \n",
    "\n",
    "\n",
    "dm"
   ]
  },
  {
   "cell_type": "code",
   "execution_count": 27,
   "id": "87178882",
   "metadata": {},
   "outputs": [],
   "source": [
    "sub_data = il.groupcat.loadSubhalos(basePath, snapNum, fields=['SubhaloCM', 'SubhaloVel', 'SubhaloMass'])\n",
    "\n",
    "# Loads in center of mass position ('SubhaloCM'), velocity ('SubhaloVel'), and mass ('SubhaloMass') data\n",
    "# of all the subhalos from the Group Catalog for the specified basePath and snapNum.\n",
    "\n",
    "# This relates to 'fof_halo' in that for 'sub_data', the first 24681 rows of either the CM, velocity, \n",
    "# or mass data is the data for all the subhalos that belong to the first halo. The next 19381 rows are\n",
    "# data for all the subhalos belonging to the second halo, and so on.\n",
    "\n"
   ]
  },
  {
   "cell_type": "code",
   "execution_count": 28,
   "id": "023d37b2",
   "metadata": {},
   "outputs": [],
   "source": [
    "sub_veldisp = il.groupcat.loadSubhalos(basePath, snapNum, fields=['SubhaloVelDisp'])\n",
    "\n",
    "# Loads in velocity dispersion data of all the subhalos from the Group Catalog for the \n",
    "# specified basePath and snapNum.\n",
    "\n",
    "# This gives you the 1-dimensional velocity dispersion for each subhalo. \n"
   ]
  },
  {
   "cell_type": "code",
   "execution_count": 29,
   "id": "3f0226d0",
   "metadata": {},
   "outputs": [],
   "source": [
    "sub_single = il.groupcat.loadSingle(basePath, snapNum, subhaloID=1)\n",
    "\n",
    "# Loads in subhalo data for all the fields of a single subhalo.\n",
    "\n",
    "# The 'loadSingle' function does not load particle level data. For example, the 'SubhaloMass' field \n",
    "# of 'sub_single' gives you one value which is the mass of the entire subhalo, not the \n",
    "# masses of each particle in that subhalo. Similarly, 'SubhaloVel' gives you the x, y, and z \n",
    "# velocity for the subhalo itself, not for the subhalos' particles. \n",
    "\n",
    "# To change which subhalo the data is for, change the number assigned to 'subhaloID'. \n"
   ]
  },
  {
   "cell_type": "code",
   "execution_count": 14,
   "id": "58a0bcd6",
   "metadata": {},
   "outputs": [
    {
     "data": {
      "text/plain": [
       "array([     0,    626,   1051, ..., 116017, 116018, 116019], dtype=int32)"
      ]
     },
     "execution_count": 14,
     "metadata": {},
     "output_type": "execute_result"
    }
   ],
   "source": [
    "fof_halo = il.groupcat.loadHalos(basePath, snapNum, fields=['GroupFirstSub'])\n",
    "\n",
    "# Loads in the TNG100-3-Dark halo data for the 'GroupFirstSub' field.\n",
    "\n",
    "# The 'GroupFirstSub' field gives the starting index of each halo, and thus tells how many subhalos are in each halo. \n",
    "\n",
    "# For example, the first three items in 'fof_halo' are 0, 24681, and 44062. This means that for the first halo \n",
    "# it has starting index 0 and has 24681 - 0 = 24681 subhalos in it. For the second halo, index 24681, it has \n",
    "# 44062 - 24681 = 19381 subhalos in it, and so on.  \n",
    "\n",
    "fof_halo"
   ]
  },
  {
   "cell_type": "code",
   "execution_count": 17,
   "id": "ce35a6fc",
   "metadata": {},
   "outputs": [
    {
     "data": {
      "text/plain": [
       "array([ 626, 1051], dtype=int32)"
      ]
     },
     "execution_count": 17,
     "metadata": {},
     "output_type": "execute_result"
    }
   ],
   "source": [
    "#Finding indices for second and third halo\n",
    "fof_halo[1:3]"
   ]
  },
  {
   "cell_type": "code",
   "execution_count": 18,
   "id": "dc259001",
   "metadata": {},
   "outputs": [
    {
     "data": {
      "text/plain": [
       "425"
      ]
     },
     "execution_count": 18,
     "metadata": {},
     "output_type": "execute_result"
    }
   ],
   "source": [
    "1051-626   #This tells how many subhalos are in the second halo. There are 425 subhalos in the second halo. "
   ]
  },
  {
   "cell_type": "code",
   "execution_count": 21,
   "id": "1bf94172",
   "metadata": {},
   "outputs": [
    {
     "data": {
      "text/plain": [
       "array([1823, 2137], dtype=int32)"
      ]
     },
     "execution_count": 21,
     "metadata": {},
     "output_type": "execute_result"
    }
   ],
   "source": [
    "fof_halo[4:6] #Finding indices for fifth and sixth subhalo "
   ]
  },
  {
   "cell_type": "code",
   "execution_count": 22,
   "id": "4026371b",
   "metadata": {},
   "outputs": [
    {
     "data": {
      "text/plain": [
       "314"
      ]
     },
     "execution_count": 22,
     "metadata": {},
     "output_type": "execute_result"
    }
   ],
   "source": [
    "2137-1823     #This tells how many subhalos are in the second halo. There are 314 subhalos in the second halo. "
   ]
  },
  {
   "cell_type": "code",
   "execution_count": 23,
   "id": "beed946f",
   "metadata": {},
   "outputs": [
    {
     "data": {
      "text/plain": [
       "array([3194, 3365], dtype=int32)"
      ]
     },
     "execution_count": 23,
     "metadata": {},
     "output_type": "execute_result"
    }
   ],
   "source": [
    "fof_halo[9:11] #Finding indices for tenth and eleventh subhalos "
   ]
  },
  {
   "cell_type": "code",
   "execution_count": 24,
   "id": "0c3e6466",
   "metadata": {},
   "outputs": [
    {
     "data": {
      "text/plain": [
       "171"
      ]
     },
     "execution_count": 24,
     "metadata": {},
     "output_type": "execute_result"
    }
   ],
   "source": [
    "3365-3194     #This tells how many subhalos are in the second halo. There are 171 subhalos in the second halo. "
   ]
  },
  {
   "cell_type": "code",
   "execution_count": 25,
   "id": "9006be76",
   "metadata": {},
   "outputs": [
    {
     "data": {
      "text/plain": [
       "1.6999999999999998e+37"
      ]
     },
     "execution_count": 25,
     "metadata": {},
     "output_type": "execute_result"
    }
   ],
   "source": [
    "# Trying to recreate the above code in Python, we set these two variables equal to 1:\n",
    "vel_to_phys = 1\n",
    "H_of_a = 1 \n",
    "\n",
    "\n",
    "dm_part_mass = (1.7 * 10**37)\n",
    "# To get this value, we take the mass of each particle in units of (mass of sun)/h, \n",
    "# which is 0.000599968882709879, and converted it to kg. Using h as 0.7, the calculation is as follows:\n",
    "\n",
    "# (0.000599968882709879 * (10**10) * (2 * 10**30)) / .7 = 1.7141968077425118e+37,\n",
    "# which can then be rounded to (1.7 * 10**37).\n",
    "\n",
    "dm_part_mass"
   ]
  },
  {
   "cell_type": "code",
   "execution_count": 30,
   "id": "49d70369",
   "metadata": {},
   "outputs": [],
   "source": [
    "# If doing calculations to test the following algorithm, here is a copy of 'snap_sub' and 'sub_single' \n",
    "# for convenience (change the 'xx' to change which subhalo the data is for):\n",
    "\n",
    "xx = 100\n",
    "snap_sub = il.snapshot.loadSubhalo(basePath, snapNum, xx, 'dm', fields=['Velocities'])\n",
    "sub_single = il.groupcat.loadSingle(basePath, snapNum, subhaloID=xx)\n"
   ]
  },
  {
   "cell_type": "code",
   "execution_count": 31,
   "id": "0024fc07",
   "metadata": {},
   "outputs": [
    {
     "name": "stdout",
     "output_type": "stream",
     "text": [
      "0 % completed\n",
      "10 % completed\n",
      "19 % completed\n",
      "29 % completed\n",
      "39 % completed\n",
      "48 % completed\n",
      "58 % completed\n",
      "68 % completed\n",
      "77 % completed\n",
      "87 % completed\n",
      "97 % completed\n",
      "For subhalo 100, the velocity disperion is:  41.05719136528504\n"
     ]
    }
   ],
   "source": [
    "# A recreated Python algorithm of the code Dylan Nelson sent us that \n",
    "# finds the velocity dispersion for a specified subhalo.  \n",
    "\n",
    "disp = 0\n",
    "mass = 0\n",
    "\n",
    "for i in range(len(snap_sub)):\n",
    "    # This next If Statement is a progress bar of sorts which tells you how far along in the \n",
    "    # For Loop you are. This is useful for when the For Loop takes a while.  \n",
    "    # The '0.1' means it updates you every 10%. Changing that number to, say, 0.05, will update you every 5%. \n",
    "    if (i%(int(len(range(len(snap_sub)))*0.1)) == 0):\n",
    "        print(f\"{round(i/(len(snap_sub))*100)} % completed\")\n",
    "    for j in range(3): # This has j loop over 1, 2, then 3, making it loop over the x, y, then z data, respectively. \n",
    "        dx = 1\n",
    "        dv = vel_to_phys * (snap_sub[i,j] - sub_single['SubhaloVel'][j])\n",
    "        dv += H_of_a * dx # Multiplying 'H_of_a' by 'dx' and summing.\n",
    "\n",
    "        disp += dm_part_mass * dv * dv # Multiplying the mass of each particle by dv^2 and summing.\n",
    "\n",
    "mass = dm_part_mass * len(snap_sub) # Multiplying the mass of each particle by the number \n",
    "# of particles to get the total mass of the subhalo. \n",
    "\n",
    "veldisp = math.sqrt(disp / (3 * mass)) # Calculating the 1-dimensional velocity dispersion. \n",
    "\n",
    "print(f'For subhalo {xx}, the velocity disperion is: ', veldisp)"
   ]
  },
  {
   "cell_type": "code",
   "execution_count": 33,
   "id": "edd4215c",
   "metadata": {},
   "outputs": [],
   "source": [
    "# Velocity data for every 5th subhalo within the first halo:\n",
    "x_vel_1 = sub_data['SubhaloVel'][0:24681:5,0] # x velocity data.\n",
    "y_vel_1 = sub_data['SubhaloVel'][0:24681:5,1] # y velocity data.\n",
    "z_vel_1 = sub_data['SubhaloVel'][0:24681:5,2] # z velocity data."
   ]
  },
  {
   "cell_type": "code",
   "execution_count": 46,
   "id": "ab4e3882",
   "metadata": {},
   "outputs": [
    {
     "data": {
      "text/plain": [
       "<mpl_toolkits.mplot3d.art3d.Path3DCollection at 0x7fe729079730>"
      ]
     },
     "execution_count": 46,
     "metadata": {},
     "output_type": "execute_result"
    },
    {
     "data": {
      "image/png": "[encoded data removed]",
      "text/plain": [
       "<Figure size 720x720 with 1 Axes>"
      ]
     },
     "metadata": {
      "needs_background": "light"
     },
     "output_type": "display_data"
    }
   ],
   "source": [
    "# Gathering velocity info for all subhalos in halo 2\n",
    "\n",
    "x_vel_2 = sub_data['SubhaloCM'][626:1051,0]\n",
    "y_vel_2 = sub_data['SubhaloCM'][626:1051,1]\n",
    "z_vel_2 = sub_data['SubhaloCM'][626:1051,2]\n",
    "\n",
    "\n",
    "\n",
    "\n",
    "x_vel_5 = sub_data['SubhaloCM'][1823:2137,0]\n",
    "y_vel_5 = sub_data['SubhaloCM'][1823:2137,1]\n",
    "z_vel_5 = sub_data['SubhaloCM'][1823:2137,2]\n",
    "\n",
    "\n",
    "\n",
    "x_vel_10 = sub_data['SubhaloCM'][3194:3365,0]\n",
    "y_vel_10 = sub_data['SubhaloCM'][3194:3365,1]\n",
    "z_vel_10 = sub_data['SubhaloCM'][3194:3365,2]\n",
    "fig = plot.figure(figsize=(10,10)) # Creates the figure.\n",
    "ax = fig.gca(projection='3d') # Creates the 3D figure.\n",
    "\n",
    "ax.scatter(x_vel_2, y_vel_2, z_vel_2, c='red', label='zs=0, zdir=x', s=2) # Plots the velocity data for the second halo.\n",
    "ax.scatter(x_vel_5,y_vel_5,z_vel_5,c='blue', label='zs=0, zdir=x', s=2)\n",
    "ax.scatter(x_vel_10,y_vel_10,z_vel_10,c='purple', label='zs=0, zdir=x', s=2)"
   ]
  },
  {
   "cell_type": "code",
   "execution_count": 39,
   "id": "e31b2a19",
   "metadata": {},
   "outputs": [
    {
     "data": {
      "text/plain": [
       "1.6999999999999998e+37"
      ]
     },
     "execution_count": 39,
     "metadata": {},
     "output_type": "execute_result"
    }
   ],
   "source": [
    "# Trying to recreate the above code in Python, we set these two variables equal to 1:\n",
    "vel_to_phys = 1\n",
    "H_of_a = 1 \n",
    "\n",
    "\n",
    "dm_part_mass = (1.7 * 10**37)\n",
    "# To get this value, we take the mass of each particle in units of (mass of sun)/h, \n",
    "# which is 0.000599968882709879, and converted it to kg. Using h as 0.7, the calculation is as follows:\n",
    "\n",
    "# (0.000599968882709879 * (10**10) * (2 * 10**30)) / .7 = 1.7141968077425118e+37,\n",
    "# which can then be rounded to (1.7 * 10**37).\n",
    "\n",
    "dm_part_mass"
   ]
  },
  {
   "cell_type": "code",
   "execution_count": 40,
   "id": "265d48ee",
   "metadata": {},
   "outputs": [],
   "source": [
    "# If doing calculations to test the following algorithm, here is a copy of 'snap_sub' and 'sub_single' \n",
    "# for convenience (change the 'xx' to change which subhalo the data is for):\n",
    "\n",
    "xx = 100\n",
    "snap_sub = il.snapshot.loadSubhalo(basePath, snapNum, xx, 'dm', fields=['Velocities'])\n",
    "sub_single = il.groupcat.loadSingle(basePath, snapNum, subhaloID=xx)\n"
   ]
  },
  {
   "cell_type": "code",
   "execution_count": 41,
   "id": "26648c98",
   "metadata": {},
   "outputs": [
    {
     "name": "stdout",
     "output_type": "stream",
     "text": [
      "0 % completed\n",
      "10 % completed\n",
      "19 % completed\n",
      "29 % completed\n",
      "39 % completed\n",
      "48 % completed\n",
      "58 % completed\n",
      "68 % completed\n",
      "77 % completed\n",
      "87 % completed\n",
      "97 % completed\n",
      "For subhalo 100, the velocity disperion is:  41.05719136528504\n"
     ]
    }
   ],
   "source": [
    "# A recreated Python algorithm of the code Dylan Nelson sent us that \n",
    "# finds the velocity dispersion for a specified subhalo.  \n",
    "\n",
    "disp = 0\n",
    "mass = 0\n",
    "\n",
    "for i in range(len(snap_sub)):\n",
    "    # This next If Statement is a progress bar of sorts which tells you how far along in the \n",
    "    # For Loop you are. This is useful for when the For Loop takes a while.  \n",
    "    # The '0.1' means it updates you every 10%. Changing that number to, say, 0.05, will update you every 5%. \n",
    "    if (i%(int(len(range(len(snap_sub)))*0.1)) == 0):\n",
    "        print(f\"{round(i/(len(snap_sub))*100)} % completed\")\n",
    "    for j in range(3): # This has j loop over 1, 2, then 3, making it loop over the x, y, then z data, respectively. \n",
    "        dx = 1\n",
    "        dv = vel_to_phys * (snap_sub[i,j] - sub_single['SubhaloVel'][j])\n",
    "        dv += H_of_a * dx # Multiplying 'H_of_a' by 'dx' and summing.\n",
    "\n",
    "        disp += dm_part_mass * dv * dv # Multiplying the mass of each particle by dv^2 and summing.\n",
    "\n",
    "mass = dm_part_mass * len(snap_sub) # Multiplying the mass of each particle by the number \n",
    "# of particles to get the total mass of the subhalo. \n",
    "\n",
    "veldisp = math.sqrt(disp / (3 * mass)) # Calculating the 1-dimensional velocity dispersion. \n",
    "\n",
    "print(f'For subhalo {xx}, the velocity disperion is: ', veldisp)"
   ]
  },
  {
   "cell_type": "code",
   "execution_count": 44,
   "id": "21869074",
   "metadata": {},
   "outputs": [
    {
     "data": {
      "text/plain": [
       "array([[ 209.85875 ,  206.51155 ,  919.8539  ],\n",
       "       [ 219.5629  ,  223.17781 ,  956.9693  ],\n",
       "       [ 225.88773 ,  227.81836 ,  922.01    ],\n",
       "       [ 260.60797 ,  191.08937 ,  975.1756  ],\n",
       "       [ 232.13329 ,  199.6045  ,  916.96185 ],\n",
       "       [ 249.27504 ,  226.7787  ,  948.3234  ],\n",
       "       [ 221.35988 ,  214.05843 ,  961.6074  ],\n",
       "       [ 198.70192 ,  269.77844 ,  936.6406  ],\n",
       "       [ 243.99223 ,  254.03543 ,  920.205   ],\n",
       "       [ 214.84799 ,  168.56497 ,  911.65894 ],\n",
       "       [ 219.80869 ,  251.17686 ,  926.88806 ],\n",
       "       [ 233.03036 ,  184.78549 ,  935.35205 ],\n",
       "       [ 203.8047  ,  221.73036 ,  987.941   ],\n",
       "       [ 251.99165 ,  145.69746 ,  899.2748  ],\n",
       "       [ 200.0608  ,  258.0272  ,  966.73804 ],\n",
       "       [ 205.49855 ,  238.94766 ,  989.2352  ],\n",
       "       [ 265.28488 ,  203.22437 ,  900.93616 ],\n",
       "       [ 210.63339 ,  182.95216 ,  977.7329  ],\n",
       "       [ 223.54109 ,  287.62936 ,  989.798   ],\n",
       "       [ 243.80635 ,  193.47313 ,  969.00146 ],\n",
       "       [ 291.93683 ,  199.20581 ,  958.63934 ],\n",
       "       [ 284.43057 ,  240.82845 ,  916.7212  ],\n",
       "       [ 237.2242  ,  236.21278 ,  984.851   ],\n",
       "       [ 258.9829  ,  288.29865 ,  936.7408  ],\n",
       "       [ 274.27054 ,  207.77827 ,  948.7919  ],\n",
       "       [ 270.0176  ,  215.6642  ,  899.93805 ],\n",
       "       [ 290.3122  ,  266.11008 ,  967.0961  ],\n",
       "       [ 145.30815 ,  213.05309 ,  951.20844 ],\n",
       "       [ 249.04681 ,  253.5737  ,  895.8677  ],\n",
       "       [ 255.39935 ,  236.05518 ,  895.3193  ],\n",
       "       [ 289.4071  ,  261.02853 ,  990.53326 ],\n",
       "       [ 172.18437 ,  177.73854 ,  904.00543 ],\n",
       "       [ 230.08835 ,  251.28752 ,  918.7591  ],\n",
       "       [ 192.63814 ,  214.29228 ,  913.0478  ],\n",
       "       [ 280.86713 ,  207.81914 ,  971.9221  ],\n",
       "       [ 249.17134 ,  262.40137 ,  970.3375  ],\n",
       "       [ 208.64124 ,  208.7511  ,  882.0719  ],\n",
       "       [ 198.37463 ,  285.44815 ,  888.9186  ],\n",
       "       [ 190.03192 ,  222.13004 ,  904.8645  ],\n",
       "       [ 146.70645 ,  211.68182 , 1004.22705 ],\n",
       "       [ 175.32848 ,  227.27974 ,  935.782   ],\n",
       "       [ 311.3464  ,  220.59805 ,  876.5522  ],\n",
       "       [ 327.84613 ,  177.23    ,  946.19244 ],\n",
       "       [ 190.16685 ,  208.58078 ,  998.2268  ],\n",
       "       [ 269.44025 ,  169.5344  , 1015.9537  ],\n",
       "       [ 185.12585 ,  180.56927 ,  967.70337 ],\n",
       "       [ 210.26122 ,  177.32977 ,  992.2421  ],\n",
       "       [ 198.5298  ,  188.4158  ,  933.88135 ],\n",
       "       [ 210.93155 ,  171.33502 ,  954.11884 ],\n",
       "       [ 249.11743 ,  214.25197 ,  967.9068  ],\n",
       "       [ 232.58751 ,  221.45628 ,  981.4498  ],\n",
       "       [ 210.08434 ,  214.80391 ,  999.0715  ],\n",
       "       [ 212.59433 ,  255.26376 ,  977.3122  ],\n",
       "       [ 216.49232 ,  215.90588 ,  979.874   ],\n",
       "       [ 176.47958 ,  253.70627 ,  972.05585 ],\n",
       "       [ 245.97443 ,  175.65074 , 1029.3723  ],\n",
       "       [ 225.14403 ,  273.18243 , 1026.6423  ],\n",
       "       [ 212.15265 ,  187.34047 ,  983.72266 ],\n",
       "       [ 292.10318 ,  307.00586 ,  948.4778  ],\n",
       "       [ 231.33607 ,  144.94102 ,  890.19116 ],\n",
       "       [ 259.60535 ,  219.01706 ,  935.69507 ],\n",
       "       [ 234.73572 ,  215.58434 ,  966.3811  ],\n",
       "       [ 258.12534 ,  167.98242 ,  993.048   ],\n",
       "       [ 278.18823 ,  248.16522 ,  932.3853  ],\n",
       "       [ 273.83246 ,  200.68932 , 1010.6497  ],\n",
       "       [ 259.72086 ,  183.36035 ,  966.7927  ],\n",
       "       [ 165.08926 ,  288.6016  ,  957.45953 ],\n",
       "       [ 207.13657 ,  147.75734 ,  900.8315  ],\n",
       "       [ 219.3167  ,  137.04126 ,  928.9364  ],\n",
       "       [ 191.60255 ,  117.86983 ,  962.486   ],\n",
       "       [ 277.2079  ,  193.67462 ,  945.0959  ],\n",
       "       [ 271.24066 ,  134.09825 , 1025.2706  ],\n",
       "       [ 268.3735  ,  229.40065 ,  923.96936 ],\n",
       "       [ 174.44664 ,  231.75235 , 1040.1959  ],\n",
       "       [ 204.15091 ,  266.2646  ,  921.7162  ],\n",
       "       [ 247.17928 ,  234.35252 ,  994.15344 ],\n",
       "       [ 259.404   ,  218.2911  ,  948.6393  ],\n",
       "       [ 238.1088  ,  221.8488  ,  983.4146  ],\n",
       "       [ 179.60075 ,  187.5383  , 1016.09644 ],\n",
       "       [ 260.32062 ,  215.30092 ,  981.8136  ],\n",
       "       [ 180.0515  ,  193.02667 ,  924.9654  ],\n",
       "       [ 245.11029 ,  200.22166 ,  910.40735 ],\n",
       "       [ 274.4747  ,  173.73434 ,  870.8178  ],\n",
       "       [ 194.24054 ,  237.109   ,  882.47687 ],\n",
       "       [ 209.09058 ,  211.7524  ,  886.83405 ],\n",
       "       [ 256.9627  ,  184.18115 ,  977.77185 ],\n",
       "       [ 183.45844 ,  217.08151 ,  873.9458  ],\n",
       "       [ 220.37187 ,  160.73994 ,  904.056   ],\n",
       "       [ 246.24625 ,  243.22816 ,  945.0193  ],\n",
       "       [ 160.41628 ,  270.73892 ,  874.84827 ],\n",
       "       [ 216.561   ,  203.53458 ,  998.54706 ],\n",
       "       [ 188.33682 ,  260.1656  , 1011.633   ],\n",
       "       [ 254.28244 ,  211.49774 ,  940.26794 ],\n",
       "       [ 244.27664 ,  218.29613 ,  960.6016  ],\n",
       "       [ 264.0499  ,  186.78079 ,  900.15576 ],\n",
       "       [ 188.11185 ,  172.51279 ,  979.51746 ],\n",
       "       [ 242.46567 ,  217.06412 ,  930.57434 ],\n",
       "       [ 260.29602 ,  199.53726 ,  951.3972  ],\n",
       "       [ 176.8569  ,  214.66199 ,  902.425   ],\n",
       "       [ 265.25745 ,  221.31207 ,  860.2864  ],\n",
       "       [ 312.4591  ,  200.70511 ,  976.7356  ],\n",
       "       [ 193.0469  ,  227.70564 ,  988.4481  ],\n",
       "       [ 272.4354  ,  218.13501 ,  962.44604 ],\n",
       "       [ 142.92947 ,  201.38095 ,  949.9264  ],\n",
       "       [ 292.2845  ,  224.38863 ,  907.6789  ],\n",
       "       [ 280.6847  ,  133.46973 , 1001.6498  ],\n",
       "       [ 230.05066 ,  228.20369 ,  966.24554 ],\n",
       "       [ 249.42009 ,  164.66214 ,  918.21326 ],\n",
       "       [ 306.97278 ,  196.7187  ,  919.61383 ],\n",
       "       [ 241.2008  ,  189.73276 ,  883.6811  ],\n",
       "       [ 246.31158 ,  218.53479 ,  924.01495 ],\n",
       "       [ 235.92632 ,  232.84967 ,  950.96375 ],\n",
       "       [ 201.51237 ,  248.16083 ,  913.316   ],\n",
       "       [ 276.67004 ,  161.2655  ,  947.2821  ],\n",
       "       [ 252.23372 ,  141.59485 ,  968.7455  ],\n",
       "       [ 165.88368 ,  206.64127 ,  919.7941  ],\n",
       "       [ 162.80836 ,  238.56438 ,  955.0523  ],\n",
       "       [ 147.50647 ,  245.58092 ,  918.1829  ],\n",
       "       [ 192.70601 ,  220.95593 ,  988.79456 ],\n",
       "       [ 188.47856 ,  206.06023 ,  969.8475  ],\n",
       "       [ 309.88562 ,  151.96971 ,  856.1719  ],\n",
       "       [ 195.82236 ,  219.24211 ,  922.56714 ],\n",
       "       [ 188.92267 ,  192.7674  ,  993.2148  ],\n",
       "       [ 209.6293  ,  195.6318  , 1026.5461  ],\n",
       "       [ 248.48645 ,  252.16159 ,  908.1243  ],\n",
       "       [ 182.69354 ,  188.58269 ,  922.61945 ],\n",
       "       [ 243.04745 ,  280.7808  ,  935.93665 ],\n",
       "       [ 164.09271 ,  241.21669 ,  918.5845  ],\n",
       "       [ 311.3724  ,  217.10522 ,  904.43774 ],\n",
       "       [ 231.13332 ,  224.06375 ,  943.7515  ],\n",
       "       [ 194.52898 ,  235.20009 ,  949.97614 ],\n",
       "       [ 248.40881 ,  209.19775 ,  922.48596 ],\n",
       "       [ 253.19083 ,  198.74304 ,  941.9366  ],\n",
       "       [ 230.13394 ,  150.19096 ,  878.2752  ],\n",
       "       [ 220.78793 ,  225.14626 ,  889.6798  ],\n",
       "       [ 246.31584 ,  261.2565  ,  927.3114  ],\n",
       "       [ 232.26283 ,  146.80759 ,  995.371   ],\n",
       "       [ 186.66112 ,  247.20299 ,  983.8462  ],\n",
       "       [ 242.89857 ,  190.55771 ,  947.5665  ],\n",
       "       [ 224.32115 ,  183.73315 ,  910.7041  ],\n",
       "       [ 231.65964 ,  282.04553 ,  943.06793 ],\n",
       "       [ 223.76392 ,  210.07408 ,  906.2618  ],\n",
       "       [ 250.37164 ,  238.78993 , 1010.81213 ],\n",
       "       [ 270.19827 ,  197.78734 ,  970.8966  ],\n",
       "       [ 339.71762 ,  249.10268 ,  903.8873  ],\n",
       "       [ 221.68575 ,  248.62851 ,  936.7377  ],\n",
       "       [ 285.3701  ,  220.7852  ,  884.44653 ],\n",
       "       [ 319.9209  ,  141.04709 ,  961.03925 ],\n",
       "       [ 211.77858 ,  174.75824 ,  896.3436  ],\n",
       "       [ 229.21933 ,  237.97931 ,  917.1912  ],\n",
       "       [ 223.15602 ,  238.77574 ,  916.4978  ],\n",
       "       [ 219.09889 ,  264.72794 ,  997.4144  ],\n",
       "       [ 231.7859  ,  171.55083 , 1026.9509  ],\n",
       "       [ 305.16772 ,  164.7102  ,  989.3175  ],\n",
       "       [ 260.31165 ,  255.67844 ,  914.1087  ],\n",
       "       [ 343.69745 ,  199.50633 ,  960.61053 ],\n",
       "       [ 284.51215 ,   91.256516,  978.9385  ],\n",
       "       [ 179.42311 ,  240.50586 ,  922.6376  ],\n",
       "       [ 228.00629 ,  216.74113 ,  967.70135 ],\n",
       "       [ 168.88263 ,  237.25732 ,  948.9952  ],\n",
       "       [ 177.50015 ,  204.03246 , 1005.9761  ],\n",
       "       [ 178.22731 ,  241.6103  ,  978.43054 ],\n",
       "       [ 198.17133 ,  187.32518 ,  921.4046  ],\n",
       "       [ 201.1108  ,  240.35466 ,  885.0182  ],\n",
       "       [ 238.18018 ,  188.81703 ,  917.61163 ],\n",
       "       [ 202.9653  ,  211.53947 ,  919.8218  ],\n",
       "       [ 236.63792 ,  193.7847  ,  910.01636 ],\n",
       "       [ 263.78824 ,  297.7748  ,  952.69806 ],\n",
       "       [ 243.10132 ,  197.64566 ,  935.6974  ],\n",
       "       [ 268.97928 ,  210.89761 ,  943.3544  ],\n",
       "       [ 219.3347  ,  197.5665  ,  935.5205  ],\n",
       "       [ 239.86098 ,  294.70068 ,  993.85333 ],\n",
       "       [ 243.61504 ,  244.25092 ,  984.17163 ],\n",
       "       [ 275.11307 ,  211.06331 ,  906.0514  ],\n",
       "       [ 253.45638 ,  213.81854 ,  959.0115  ],\n",
       "       [ 238.76859 ,  241.44496 ,  911.58246 ],\n",
       "       [ 279.02158 ,  211.47784 ,  982.78986 ],\n",
       "       [ 222.26242 ,  233.20113 ,  949.4024  ],\n",
       "       [ 251.51717 ,  149.11322 ,  899.4923  ],\n",
       "       [ 218.91785 ,  285.4138  ,  926.1876  ],\n",
       "       [ 213.19589 ,  145.97908 ,  894.45575 ],\n",
       "       [ 232.46846 ,  194.8157  ,  912.43024 ],\n",
       "       [ 225.6874  ,  191.11635 ,  951.97485 ],\n",
       "       [ 280.9387  ,  215.32266 ,  876.09033 ],\n",
       "       [ 200.17844 ,  180.45665 ,  911.95526 ],\n",
       "       [ 259.772   ,  202.71869 ,  903.47675 ],\n",
       "       [ 213.48558 ,  197.86295 ,  969.19104 ],\n",
       "       [ 213.06459 ,  196.56735 ,  922.8286  ],\n",
       "       [ 207.96887 ,  190.4838  ,  970.6497  ],\n",
       "       [ 226.52832 ,  229.85638 ,  880.004   ],\n",
       "       [ 211.567   ,  180.95633 ,  911.0644  ],\n",
       "       [ 228.75319 ,  237.4385  , 1012.0087  ],\n",
       "       [ 228.33488 ,  223.67966 ,  925.5584  ],\n",
       "       [ 224.97966 ,  211.22108 , 1001.5973  ],\n",
       "       [ 185.92827 ,  312.04944 ,  953.14215 ],\n",
       "       [ 204.22284 ,  251.33472 ,  908.0507  ],\n",
       "       [ 321.56268 ,  184.81328 ,  936.90314 ],\n",
       "       [ 255.4461  ,  248.30093 ,  993.4448  ],\n",
       "       [ 301.8268  ,  167.91577 ,  934.56104 ],\n",
       "       [ 131.54602 ,  189.85095 ,  944.14996 ],\n",
       "       [ 239.0007  ,  233.53963 ,  892.4567  ],\n",
       "       [ 263.87167 ,  216.5619  ,  894.8105  ],\n",
       "       [ 204.67407 ,  204.85371 ,  951.0913  ],\n",
       "       [ 192.01344 ,  253.68898 ,  913.97736 ],\n",
       "       [ 205.12262 ,  128.27716 ,  985.72253 ],\n",
       "       [ 220.2318  ,  168.73785 ,  901.3401  ],\n",
       "       [ 210.2863  ,  172.34889 , 1012.15967 ],\n",
       "       [ 190.03929 ,  242.16873 ,  991.95215 ],\n",
       "       [ 206.2752  ,  186.08115 ,  932.3497  ],\n",
       "       [ 230.17331 ,  166.12776 ,  944.97314 ],\n",
       "       [ 243.42036 ,  159.19101 ,  991.19073 ],\n",
       "       [ 202.8118  ,  170.6277  ,  972.90955 ],\n",
       "       [ 185.51639 ,  223.8911  ,  990.0367  ],\n",
       "       [ 239.3598  ,  166.49254 ,  927.87286 ],\n",
       "       [ 122.32283 ,  162.19116 ,  902.1749  ],\n",
       "       [ 186.40474 ,  208.62833 ,  928.8018  ],\n",
       "       [ 196.03804 ,  150.24065 ,  905.8407  ],\n",
       "       [ 219.45497 ,  130.43277 ,  970.09644 ],\n",
       "       [ 258.7676  ,  105.148964,  847.44946 ],\n",
       "       [ 203.94186 ,  276.1688  ,  925.03485 ],\n",
       "       [ 141.023   ,  189.49792 ,  876.51355 ],\n",
       "       [ 198.8236  ,  119.935486,  959.5931  ],\n",
       "       [ 314.0096  ,  232.6459  ,  941.52094 ],\n",
       "       [ 256.38556 ,  145.36185 ,  921.56476 ],\n",
       "       [ 223.95657 ,  145.82913 ,  931.2258  ],\n",
       "       [ 160.42126 ,  181.08096 ,  916.829   ],\n",
       "       [ 203.64474 ,  170.70732 , 1000.6389  ],\n",
       "       [ 229.6475  ,  251.96738 ,  904.4865  ],\n",
       "       [ 119.7093  ,  230.36371 ,  944.38043 ],\n",
       "       [ 135.10863 ,  214.975   ,  930.2118  ],\n",
       "       [ 186.42203 ,  241.39893 ,  882.05316 ],\n",
       "       [ 336.77383 ,  161.03711 ,  911.79254 ],\n",
       "       [ 331.08173 ,  191.84805 ,  937.35516 ],\n",
       "       [ 143.51082 ,  285.24258 ,  895.5411  ],\n",
       "       [ 150.50555 ,  223.65353 ,  871.9786  ],\n",
       "       [ 218.23499 ,  295.62674 ,  960.0986  ],\n",
       "       [ 116.14891 ,  228.89804 ,  936.18787 ],\n",
       "       [ 165.17995 ,  315.1785  ,  882.25006 ]], dtype=float32)"
      ]
     },
     "execution_count": 44,
     "metadata": {},
     "output_type": "execute_result"
    }
   ],
   "source": [
    "snap_sub = il.snapshot.loadSubhalo(basePath, snapNum, xx, 'dm', fields=['Velocities'])\n",
    "\n",
    "snap_sub"
   ]
  },
  {
   "cell_type": "code",
   "execution_count": null,
   "id": "941425fb",
   "metadata": {},
   "outputs": [],
   "source": []
  }
 ],
 "metadata": {
  "kernelspec": {
   "display_name": "Python 3",
   "language": "python",
   "name": "python3"
  },
  "language_info": {
   "codemirror_mode": {
    "name": "ipython",
    "version": 3
   },
   "file_extension": ".py",
   "mimetype": "text/x-python",
   "name": "python",
   "nbconvert_exporter": "python",
   "pygments_lexer": "ipython3",
   "version": "3.8.8"
  }
 },
 "nbformat": 4,
 "nbformat_minor": 5
}
