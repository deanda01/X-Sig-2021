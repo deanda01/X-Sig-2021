{
 "cells": [
  {
   "cell_type": "markdown",
   "metadata": {},
   "source": [
    "# Draft of Final Galaxy Cluster Data\n",
    "# ---------------------------------------------------------------------"
   ]
  },
  {
   "cell_type": "markdown",
   "metadata": {},
   "source": [
    "From the TNG header info (found at https://www.tng-project.org/data/docs/specifications/#sec1c), the fields used in this Notebook are described as follows: \n",
    "\n",
    "### Snapshots\n",
    "##### PartType1 (dm):\n",
    "- __Coordinates__: Spatial position within the periodic box of size 75000 ckpc/h. Comoving coordinate.\n",
    "\n",
    "- __Velocities__: Spatial velocity. Multiply this value by √_a_ to obtain peculiar velocity.\n",
    "\n",
    "<br>\n",
    "\n",
    "### Group Catalogs\n",
    "\n",
    "\n",
    "- __GroupFirstSub__: Index into the Subhalo table of the first/primary/most massive Subfind group within this FoF group. Note: This value is signed (or should be interpreted as signed)! In this case, a value of -1 indicates that this FoF group has no subhalos.\n",
    "\n",
    "- __SubhaloCM__: Comoving center of mass of the Subhalo, computed as the sum of the mass weighted relative coordinates of all particles/cells in the Subhalo, of all types.\n",
    "\n",
    "- __SubhaloVel__: Peculiar velocity of the group, computed as the sum of the mass weighted velocities of all particles/cells in this group, of all types. No unit conversion is needed.\n",
    "\n",
    "- __SubhaloMass__: Total mass of all member particle/cells which are bound to this Subhalo, of all types. Particle/cells bound to subhaloes of this Subhalo are NOT accounted for.\n",
    "\n",
    "- __SubhaloGrNr__: Index into the Group table of the FOF host/parent of this Subhalo.\n",
    "\n",
    "- __SubhaloLen__: Total number of member particle/cells in this Subhalo, of all types.\n",
    "\n",
    "- __SubhaloVelDisp__: One-dimensional velocity dispersion of all the member particles/cells (the 3D dispersion divided by √3).\n",
    "\n",
    "\n",
    "\n"
   ]
  },
  {
   "cell_type": "code",
   "execution_count": 2,
   "metadata": {},
   "outputs": [],
   "source": [
    "%reset -f \n",
    "# This command resets the kernel."
   ]
  },
  {
   "cell_type": "code",
   "execution_count": 8,
   "metadata": {},
   "outputs": [],
   "source": [
    "import illustris_python as il\n",
    "import numpy\n",
    "import random as rand\n",
    "import matplotlib.pyplot as plot\n",
    "from mpl_toolkits.mplot3d import axes3d  \n",
    "import math"
   ]
  },
  {
   "cell_type": "markdown",
   "metadata": {},
   "source": [
    "### How to read in, work with, select, and plot data from snapshot files"
   ]
  },
  {
   "cell_type": "code",
   "execution_count": 9,
   "metadata": {},
   "outputs": [],
   "source": [
    "basePath = 'sims.TNG/TNG100-3-Dark/output/' # Loads the data for a certain simulation run, in this case TNG100-3-Dark.\n",
    "snapNum = 99 # Defines the snapshot number that is used when reading in the data."
   ]
  },
  {
   "cell_type": "code",
   "execution_count": 6,
   "metadata": {},
   "outputs": [
    {
     "ename": "OSError",
     "evalue": "Unable to open file (unable to open file: name = 'sims.TNG/TNG100-3-Dark/output//snapdir_099/snap_099.0.hdf5', errno = 2, error message = 'No such file or directory', flags = 0, o_flags = 0)",
     "output_type": "error",
     "traceback": [
      "\u001b[0;31m---------------------------------------------------------------------------\u001b[0m",
      "\u001b[0;31mOSError\u001b[0m                                   Traceback (most recent call last)",
      "\u001b[0;32m<ipython-input-6-c1dd52c6738f>\u001b[0m in \u001b[0;36m<module>\u001b[0;34m\u001b[0m\n\u001b[0;32m----> 1\u001b[0;31m \u001b[0mdm\u001b[0m \u001b[0;34m=\u001b[0m \u001b[0mil\u001b[0m\u001b[0;34m.\u001b[0m\u001b[0msnapshot\u001b[0m\u001b[0;34m.\u001b[0m\u001b[0mloadSubset\u001b[0m\u001b[0;34m(\u001b[0m\u001b[0mbasePath\u001b[0m\u001b[0;34m,\u001b[0m \u001b[0msnapNum\u001b[0m\u001b[0;34m,\u001b[0m \u001b[0;34m\"DM\"\u001b[0m\u001b[0;34m,\u001b[0m \u001b[0mfields\u001b[0m\u001b[0;34m=\u001b[0m\u001b[0;34m[\u001b[0m\u001b[0;34m'Velocities'\u001b[0m\u001b[0;34m,\u001b[0m \u001b[0;34m'Coordinates'\u001b[0m\u001b[0;34m]\u001b[0m\u001b[0;34m)\u001b[0m\u001b[0;34m\u001b[0m\u001b[0;34m\u001b[0m\u001b[0m\n\u001b[0m\u001b[1;32m      2\u001b[0m \u001b[0;34m\u001b[0m\u001b[0m\n\u001b[1;32m      3\u001b[0m \u001b[0;31m# Loads in the data for the specified criteria. In this case it is loading in the dark matter velocity\u001b[0m\u001b[0;34m\u001b[0m\u001b[0;34m\u001b[0m\u001b[0;34m\u001b[0m\u001b[0m\n\u001b[1;32m      4\u001b[0m \u001b[0;31m# data from snapshot 99 of the TNG100-3-Dark run.\u001b[0m\u001b[0;34m\u001b[0m\u001b[0;34m\u001b[0m\u001b[0;34m\u001b[0m\u001b[0m\n\u001b[1;32m      5\u001b[0m \u001b[0;34m\u001b[0m\u001b[0m\n",
      "\u001b[0;32m~/Downloads/illustris_python/snapshot.py\u001b[0m in \u001b[0;36mloadSubset\u001b[0;34m(basePath, snapNum, partType, fields, subset, mdi, sq, float32)\u001b[0m\n\u001b[1;32m     48\u001b[0m \u001b[0;34m\u001b[0m\u001b[0m\n\u001b[1;32m     49\u001b[0m     \u001b[0;31m# load header from first chunk\u001b[0m\u001b[0;34m\u001b[0m\u001b[0;34m\u001b[0m\u001b[0;34m\u001b[0m\u001b[0m\n\u001b[0;32m---> 50\u001b[0;31m     \u001b[0;32mwith\u001b[0m \u001b[0mh5py\u001b[0m\u001b[0;34m.\u001b[0m\u001b[0mFile\u001b[0m\u001b[0;34m(\u001b[0m\u001b[0msnapPath\u001b[0m\u001b[0;34m(\u001b[0m\u001b[0mbasePath\u001b[0m\u001b[0;34m,\u001b[0m \u001b[0msnapNum\u001b[0m\u001b[0;34m)\u001b[0m\u001b[0;34m,\u001b[0m \u001b[0;34m'r'\u001b[0m\u001b[0;34m)\u001b[0m \u001b[0;32mas\u001b[0m \u001b[0mf\u001b[0m\u001b[0;34m:\u001b[0m\u001b[0;34m\u001b[0m\u001b[0;34m\u001b[0m\u001b[0m\n\u001b[0m\u001b[1;32m     51\u001b[0m \u001b[0;34m\u001b[0m\u001b[0m\n\u001b[1;32m     52\u001b[0m         \u001b[0mheader\u001b[0m \u001b[0;34m=\u001b[0m \u001b[0mdict\u001b[0m\u001b[0;34m(\u001b[0m\u001b[0mf\u001b[0m\u001b[0;34m[\u001b[0m\u001b[0;34m'Header'\u001b[0m\u001b[0;34m]\u001b[0m\u001b[0;34m.\u001b[0m\u001b[0mattrs\u001b[0m\u001b[0;34m.\u001b[0m\u001b[0mitems\u001b[0m\u001b[0;34m(\u001b[0m\u001b[0;34m)\u001b[0m\u001b[0;34m)\u001b[0m\u001b[0;34m\u001b[0m\u001b[0;34m\u001b[0m\u001b[0m\n",
      "\u001b[0;32m~/opt/anaconda3/lib/python3.8/site-packages/h5py/_hl/files.py\u001b[0m in \u001b[0;36m__init__\u001b[0;34m(self, name, mode, driver, libver, userblock_size, swmr, rdcc_nslots, rdcc_nbytes, rdcc_w0, track_order, **kwds)\u001b[0m\n\u001b[1;32m    404\u001b[0m             \u001b[0;32mwith\u001b[0m \u001b[0mphil\u001b[0m\u001b[0;34m:\u001b[0m\u001b[0;34m\u001b[0m\u001b[0;34m\u001b[0m\u001b[0m\n\u001b[1;32m    405\u001b[0m                 \u001b[0mfapl\u001b[0m \u001b[0;34m=\u001b[0m \u001b[0mmake_fapl\u001b[0m\u001b[0;34m(\u001b[0m\u001b[0mdriver\u001b[0m\u001b[0;34m,\u001b[0m \u001b[0mlibver\u001b[0m\u001b[0;34m,\u001b[0m \u001b[0mrdcc_nslots\u001b[0m\u001b[0;34m,\u001b[0m \u001b[0mrdcc_nbytes\u001b[0m\u001b[0;34m,\u001b[0m \u001b[0mrdcc_w0\u001b[0m\u001b[0;34m,\u001b[0m \u001b[0;34m**\u001b[0m\u001b[0mkwds\u001b[0m\u001b[0;34m)\u001b[0m\u001b[0;34m\u001b[0m\u001b[0;34m\u001b[0m\u001b[0m\n\u001b[0;32m--> 406\u001b[0;31m                 fid = make_fid(name, mode, userblock_size,\n\u001b[0m\u001b[1;32m    407\u001b[0m                                \u001b[0mfapl\u001b[0m\u001b[0;34m,\u001b[0m \u001b[0mfcpl\u001b[0m\u001b[0;34m=\u001b[0m\u001b[0mmake_fcpl\u001b[0m\u001b[0;34m(\u001b[0m\u001b[0mtrack_order\u001b[0m\u001b[0;34m=\u001b[0m\u001b[0mtrack_order\u001b[0m\u001b[0;34m)\u001b[0m\u001b[0;34m,\u001b[0m\u001b[0;34m\u001b[0m\u001b[0;34m\u001b[0m\u001b[0m\n\u001b[1;32m    408\u001b[0m                                swmr=swmr)\n",
      "\u001b[0;32m~/opt/anaconda3/lib/python3.8/site-packages/h5py/_hl/files.py\u001b[0m in \u001b[0;36mmake_fid\u001b[0;34m(name, mode, userblock_size, fapl, fcpl, swmr)\u001b[0m\n\u001b[1;32m    171\u001b[0m         \u001b[0;32mif\u001b[0m \u001b[0mswmr\u001b[0m \u001b[0;32mand\u001b[0m \u001b[0mswmr_support\u001b[0m\u001b[0;34m:\u001b[0m\u001b[0;34m\u001b[0m\u001b[0;34m\u001b[0m\u001b[0m\n\u001b[1;32m    172\u001b[0m             \u001b[0mflags\u001b[0m \u001b[0;34m|=\u001b[0m \u001b[0mh5f\u001b[0m\u001b[0;34m.\u001b[0m\u001b[0mACC_SWMR_READ\u001b[0m\u001b[0;34m\u001b[0m\u001b[0;34m\u001b[0m\u001b[0m\n\u001b[0;32m--> 173\u001b[0;31m         \u001b[0mfid\u001b[0m \u001b[0;34m=\u001b[0m \u001b[0mh5f\u001b[0m\u001b[0;34m.\u001b[0m\u001b[0mopen\u001b[0m\u001b[0;34m(\u001b[0m\u001b[0mname\u001b[0m\u001b[0;34m,\u001b[0m \u001b[0mflags\u001b[0m\u001b[0;34m,\u001b[0m \u001b[0mfapl\u001b[0m\u001b[0;34m=\u001b[0m\u001b[0mfapl\u001b[0m\u001b[0;34m)\u001b[0m\u001b[0;34m\u001b[0m\u001b[0;34m\u001b[0m\u001b[0m\n\u001b[0m\u001b[1;32m    174\u001b[0m     \u001b[0;32melif\u001b[0m \u001b[0mmode\u001b[0m \u001b[0;34m==\u001b[0m \u001b[0;34m'r+'\u001b[0m\u001b[0;34m:\u001b[0m\u001b[0;34m\u001b[0m\u001b[0;34m\u001b[0m\u001b[0m\n\u001b[1;32m    175\u001b[0m         \u001b[0mfid\u001b[0m \u001b[0;34m=\u001b[0m \u001b[0mh5f\u001b[0m\u001b[0;34m.\u001b[0m\u001b[0mopen\u001b[0m\u001b[0;34m(\u001b[0m\u001b[0mname\u001b[0m\u001b[0;34m,\u001b[0m \u001b[0mh5f\u001b[0m\u001b[0;34m.\u001b[0m\u001b[0mACC_RDWR\u001b[0m\u001b[0;34m,\u001b[0m \u001b[0mfapl\u001b[0m\u001b[0;34m=\u001b[0m\u001b[0mfapl\u001b[0m\u001b[0;34m)\u001b[0m\u001b[0;34m\u001b[0m\u001b[0;34m\u001b[0m\u001b[0m\n",
      "\u001b[0;32mh5py/_objects.pyx\u001b[0m in \u001b[0;36mh5py._objects.with_phil.wrapper\u001b[0;34m()\u001b[0m\n",
      "\u001b[0;32mh5py/_objects.pyx\u001b[0m in \u001b[0;36mh5py._objects.with_phil.wrapper\u001b[0;34m()\u001b[0m\n",
      "\u001b[0;32mh5py/h5f.pyx\u001b[0m in \u001b[0;36mh5py.h5f.open\u001b[0;34m()\u001b[0m\n",
      "\u001b[0;31mOSError\u001b[0m: Unable to open file (unable to open file: name = 'sims.TNG/TNG100-3-Dark/output//snapdir_099/snap_099.0.hdf5', errno = 2, error message = 'No such file or directory', flags = 0, o_flags = 0)"
     ]
    }
   ],
   "source": [
    "dm = il.snapshot.loadSubset(basePath, snapNum, \"DM\", fields=['Velocities', 'Coordinates']) \n",
    "\n",
    "# Loads in the data for the specified criteria. In this case it is loading in the dark matter velocity \n",
    "# data from snapshot 99 of the TNG100-3-Dark run. \n",
    "\n",
    "# The data is organized into 3 columns, with the first, second, and third columns being \n",
    "# for the x, y, and z data resepctively. "
   ]
  },
  {
   "cell_type": "code",
   "execution_count": 7,
   "metadata": {},
   "outputs": [
    {
     "ename": "NameError",
     "evalue": "name 'dm' is not defined",
     "output_type": "error",
     "traceback": [
      "\u001b[0;31m---------------------------------------------------------------------------\u001b[0m",
      "\u001b[0;31mNameError\u001b[0m                                 Traceback (most recent call last)",
      "\u001b[0;32m<ipython-input-7-1a105f37f546>\u001b[0m in \u001b[0;36m<module>\u001b[0;34m\u001b[0m\n\u001b[0;32m----> 1\u001b[0;31m \u001b[0mdm_x\u001b[0m \u001b[0;34m=\u001b[0m \u001b[0mdm\u001b[0m\u001b[0;34m[\u001b[0m\u001b[0;34m'Velocities'\u001b[0m\u001b[0;34m]\u001b[0m\u001b[0;34m[\u001b[0m\u001b[0;34m:\u001b[0m\u001b[0;34m,\u001b[0m\u001b[0;36m0\u001b[0m\u001b[0;34m]\u001b[0m \u001b[0;31m# From the basepath and snapNum chosen above in the 'dm' variable, this\u001b[0m\u001b[0;34m\u001b[0m\u001b[0;34m\u001b[0m\u001b[0m\n\u001b[0m\u001b[1;32m      2\u001b[0m \u001b[0;31m# accesses the x data (first column) of the 'Velocities' field.\u001b[0m\u001b[0;34m\u001b[0m\u001b[0;34m\u001b[0m\u001b[0;34m\u001b[0m\u001b[0m\n\u001b[1;32m      3\u001b[0m \u001b[0;34m\u001b[0m\u001b[0m\n\u001b[1;32m      4\u001b[0m \u001b[0mdm_y\u001b[0m \u001b[0;34m=\u001b[0m \u001b[0mdm\u001b[0m\u001b[0;34m[\u001b[0m\u001b[0;34m'Velocities'\u001b[0m\u001b[0;34m]\u001b[0m\u001b[0;34m[\u001b[0m\u001b[0;34m:\u001b[0m\u001b[0;34m,\u001b[0m\u001b[0;36m1\u001b[0m\u001b[0;34m]\u001b[0m \u001b[0;31m# From the basepath and snapNum chosen above in the 'dm' variable, this\u001b[0m\u001b[0;34m\u001b[0m\u001b[0;34m\u001b[0m\u001b[0m\n\u001b[1;32m      5\u001b[0m \u001b[0;31m# accesses the y data (second column) of the 'Velocities' field.\u001b[0m\u001b[0;34m\u001b[0m\u001b[0;34m\u001b[0m\u001b[0;34m\u001b[0m\u001b[0m\n",
      "\u001b[0;31mNameError\u001b[0m: name 'dm' is not defined"
     ]
    }
   ],
   "source": [
    "dm_x = dm['Velocities'][:,0] # From the basepath and snapNum chosen above in the 'dm' variable, this\n",
    "# accesses the x data (first column) of the 'Velocities' field.\n",
    "\n",
    "dm_y = dm['Velocities'][:,1] # From the basepath and snapNum chosen above in the 'dm' variable, this\n",
    "# accesses the y data (second column) of the 'Velocities' field.\n",
    "\n",
    "dm_z = dm['Velocities'][:,2] # From the basepath and snapNum chosen above in the 'dm' variable, this\n",
    "# accesses the z data (third column) of the 'Velocities' field.\n",
    "\n"
   ]
  },
  {
   "cell_type": "code",
   "execution_count": 7,
   "metadata": {},
   "outputs": [
    {
     "ename": "NameError",
     "evalue": "name 'dm_x' is not defined",
     "output_type": "error",
     "traceback": [
      "\u001b[0;31m---------------------------------------------------------------------------\u001b[0m",
      "\u001b[0;31mNameError\u001b[0m                                 Traceback (most recent call last)",
      "\u001b[0;32m<ipython-input-7-dc380aa8efbd>\u001b[0m in \u001b[0;36m<module>\u001b[0;34m\u001b[0m\n\u001b[0;32m----> 1\u001b[0;31m \u001b[0mvalue_x\u001b[0m \u001b[0;34m=\u001b[0m \u001b[0mrand\u001b[0m\u001b[0;34m.\u001b[0m\u001b[0mchoices\u001b[0m\u001b[0;34m(\u001b[0m\u001b[0mdm_x\u001b[0m\u001b[0;34m,\u001b[0m \u001b[0mk\u001b[0m\u001b[0;34m=\u001b[0m\u001b[0;36m5000\u001b[0m\u001b[0;34m)\u001b[0m \u001b[0;31m#Chooses 5000 random points from dm_x.\u001b[0m\u001b[0;34m\u001b[0m\u001b[0;34m\u001b[0m\u001b[0m\n\u001b[0m\u001b[1;32m      2\u001b[0m \u001b[0mvalue_y\u001b[0m \u001b[0;34m=\u001b[0m \u001b[0mrand\u001b[0m\u001b[0;34m.\u001b[0m\u001b[0mchoices\u001b[0m\u001b[0;34m(\u001b[0m\u001b[0mdm_y\u001b[0m\u001b[0;34m,\u001b[0m \u001b[0mk\u001b[0m\u001b[0;34m=\u001b[0m\u001b[0;36m5000\u001b[0m\u001b[0;34m)\u001b[0m \u001b[0;31m# Chooses 5000 random points from dm_y.\u001b[0m\u001b[0;34m\u001b[0m\u001b[0;34m\u001b[0m\u001b[0m\n\u001b[1;32m      3\u001b[0m \u001b[0mvalue_z\u001b[0m \u001b[0;34m=\u001b[0m \u001b[0mrand\u001b[0m\u001b[0;34m.\u001b[0m\u001b[0mchoices\u001b[0m\u001b[0;34m(\u001b[0m\u001b[0mdm_z\u001b[0m\u001b[0;34m,\u001b[0m \u001b[0mk\u001b[0m\u001b[0;34m=\u001b[0m\u001b[0;36m5000\u001b[0m\u001b[0;34m)\u001b[0m \u001b[0;31m# Chooses 5000 random points from dm_z.\u001b[0m\u001b[0;34m\u001b[0m\u001b[0;34m\u001b[0m\u001b[0m\n\u001b[1;32m      4\u001b[0m \u001b[0;34m\u001b[0m\u001b[0m\n\u001b[1;32m      5\u001b[0m \u001b[0mfig\u001b[0m \u001b[0;34m=\u001b[0m \u001b[0mplot\u001b[0m\u001b[0;34m.\u001b[0m\u001b[0mfigure\u001b[0m\u001b[0;34m(\u001b[0m\u001b[0mfigsize\u001b[0m\u001b[0;34m=\u001b[0m\u001b[0;34m(\u001b[0m\u001b[0;36m10\u001b[0m\u001b[0;34m,\u001b[0m\u001b[0;36m10\u001b[0m\u001b[0;34m)\u001b[0m\u001b[0;34m)\u001b[0m \u001b[0;31m# Creates the figure.\u001b[0m\u001b[0;34m\u001b[0m\u001b[0;34m\u001b[0m\u001b[0m\n",
      "\u001b[0;31mNameError\u001b[0m: name 'dm_x' is not defined"
     ]
    }
   ],
   "source": [
    "value_x = rand.choices(dm_x, k=5000) #Chooses 5000 random points from dm_x.\n",
    "value_y = rand.choices(dm_y, k=5000) # Chooses 5000 random points from dm_y.\n",
    "value_z = rand.choices(dm_z, k=5000) # Chooses 5000 random points from dm_z.\n",
    "\n",
    "fig = plot.figure(figsize=(10,10)) # Creates the figure.\n",
    "ax = fig.gca(projection='3d') # Creates the 3D figure.\n",
    "\n",
    "ax.scatter(value_x, value_y, value_z, c='k', label='zs=0, zdir=x', s=2)\n",
    "# Makes a scatter plot for the data of value_x, value_y, and value_z all on one figure.\n",
    "# In other words, makes a scatter plot of the velocity data. \n",
    "\n",
    "\n",
    "ax.view_init(elev=20., azim=-35) # Sets the horizontal and vertical angle in which we see the figure. "
   ]
  },
  {
   "cell_type": "markdown",
   "metadata": {},
   "source": [
    "## ---------------------------------------------------------------------"
   ]
  },
  {
   "cell_type": "markdown",
   "metadata": {},
   "source": [
    "### Working With and Plotting Halo/Subhalo/Particle Data"
   ]
  },
  {
   "cell_type": "code",
   "execution_count": null,
   "metadata": {},
   "outputs": [],
   "source": [
    "basePath3 = 'sims.TNG/TNG100-1-Dark/output/' # Loads the data for the TNG100-1-Dark run."
   ]
  },
  {
   "cell_type": "code",
   "execution_count": null,
   "metadata": {},
   "outputs": [],
   "source": [
    "fof_halo = il.groupcat.loadHalos(basePath3, snapNum, fields=['GroupFirstSub'])\n",
    "\n",
    "# Loads in the TNG100-3-Dark halo data for the 'GroupFirstSub' field.\n",
    "\n",
    "# The 'GroupFirstSub' field gives the starting index of each halo, and thus tells how many subhalos are in each halo. \n",
    "\n",
    "# For example, the first three items in 'fof_halo' are 0, 24681, and 44062. This means that for the first halo \n",
    "# it has starting index 0 and has 24681 - 0 = 24681 subhalos in it. For the second halo, index 24681, it has \n",
    "# 44062 - 24681 = 19381 subhalos in it, and so on.  "
   ]
  },
  {
   "cell_type": "code",
   "execution_count": null,
   "metadata": {},
   "outputs": [],
   "source": [
    "sub_data = il.groupcat.loadSubhalos(basePath3, snapNum, fields=['SubhaloCM', 'SubhaloVel', 'SubhaloMass'])\n",
    "\n",
    "# Loads in center of mass position ('SubhaloCM'), velocity ('SubhaloVel'), and mass ('SubhaloMass') data\n",
    "# of all the subhalos from the Group Catalog for the specified basePath and snapNum.\n",
    "\n",
    "# This relates to 'fof_halo' in that for 'sub_data', the first 24681 rows of either the CM, velocity, \n",
    "# or mass data is the data for all the subhalos that belong to the first halo. The next 19381 rows are\n",
    "# data for all the subhalos belonging to the second halo, and so on. "
   ]
  },
  {
   "cell_type": "code",
   "execution_count": null,
   "metadata": {},
   "outputs": [],
   "source": [
    "sub_veldisp = il.groupcat.loadSubhalos(basePath3, snapNum, fields=['SubhaloVelDisp'])\n",
    "\n",
    "# Loads in velocity dispersion data of all the subhalos from the Group Catalog for the \n",
    "# specified basePath and snapNum.\n",
    "\n",
    "# This gives you the 1-dimensional velocity dispersion for each subhalo. "
   ]
  },
  {
   "cell_type": "code",
   "execution_count": null,
   "metadata": {},
   "outputs": [],
   "source": [
    "sub_single = il.groupcat.loadSingle(basePath3, snapNum, subhaloID=1)\n",
    "\n",
    "# Loads in subhalo data for all the fields of a single subhalo.\n",
    "\n",
    "# The 'loadSingle' function does not load particle level data. For example, the 'SubhaloMass' field \n",
    "# of 'sub_single' gives you one value which is the mass of the entire subhalo, not the \n",
    "# masses of each particle in that subhalo. Similarly, 'SubhaloVel' gives you the x, y, and z \n",
    "# velocity for the subhalo itself, not for the subhalos' particles. \n",
    "\n",
    "# To change which subhalo the data is for, change the number assigned to 'subhaloID'. "
   ]
  },
  {
   "cell_type": "code",
   "execution_count": null,
   "metadata": {},
   "outputs": [],
   "source": [
    "sub_len = il.groupcat.loadSubhalos(basePath3, snapNum, fields=['SubhaloLen'])\n",
    "\n",
    "# Loads the SubhaloLen field of all the subhalos from the Group Catalog for the specified basePath and snapNum.\n",
    "\n",
    "# This tells you how many particles are in each subhalo. \n",
    "\n",
    "# For example, the first item in 'sub_len' is 47955681, meaning \n",
    "# there are 47955681 particles in the first subhalo which is in the first halo, and so on."
   ]
  },
  {
   "cell_type": "code",
   "execution_count": null,
   "metadata": {},
   "outputs": [],
   "source": [
    "snap_sub = il.snapshot.loadSubhalo(basePath3, snapNum, 1, 'dm', fields=['Velocities'])\n",
    "\n",
    "# Loads in velocity data for each particle in a specified subhalo. To change which subhalo the data \n",
    "# is for, change the number after the 'snapNum' argument. \n",
    "\n",
    "# The length of 'snap_sub' should agree with the corresponding entry in 'sub_len'. For example, \n",
    "# when 'snap_sub' is getting data for the first subhalo, the length of 'snap_sub', len(snap_sub), is\n",
    "# 47955681, which is also the first item in 'sub_len', as it should be. Similarly, when 'snap_sub' is \n",
    "# getting data for the second subhalo, len(snap_sub) = 5487912, which is also the second item in 'sub_len'."
   ]
  },
  {
   "cell_type": "code",
   "execution_count": null,
   "metadata": {},
   "outputs": [],
   "source": [
    "# As an example, getting subhalo velocity data for all the subhalos in the 1st halo looks like:\n",
    "#sub_data['SubhaloCM'][0:24681]\n",
    "\n",
    "# Similary, getting subhalo velocity data for all the subhalos in the 2nd halo looks like:\n",
    "#sub_data['SubhaloCM'][24681:44062]\n",
    "\n",
    "# Similary, getting subhalo velocity data for all the subhalos in the 100th halo looks like:\n",
    "#sub_data['SubhaloCM'][370101:371043]\n"
   ]
  },
  {
   "cell_type": "code",
   "execution_count": null,
   "metadata": {},
   "outputs": [],
   "source": [
    "# Plotting some subhalo position data : \n",
    "\n",
    "\n",
    "# Position data for every 5th subhalo within the first halo:\n",
    "x_cm_1 = sub_data['SubhaloCM'][0:24681:5,0] # x position data.\n",
    "y_cm_1 = sub_data['SubhaloCM'][0:24681:5,1] # y position data.\n",
    "z_cm_1 = sub_data['SubhaloCM'][0:24681:5,2] # z position data.\n",
    "\n",
    "\n",
    "# Position data for every 5th subhalo within the second halo:\n",
    "x_cm_2 = sub_data['SubhaloCM'][24681:44062:5,0] # x position data.\n",
    "y_cm_2 = sub_data['SubhaloCM'][24681:44062:5,1] # y position data.\n",
    "z_cm_2 = sub_data['SubhaloCM'][24681:44062:5,2] # z position data.\n",
    "\n",
    "\n",
    "# Position data for every 5th subhalo within the third halo:\n",
    "x_cm_3 = sub_data['SubhaloCM'][44062:59551:5,0] # x position data.\n",
    "y_cm_3 = sub_data['SubhaloCM'][44062:59551:5,1] # y position data.\n",
    "z_cm_3 = sub_data['SubhaloCM'][44062:59551:5,2] # z position data.\n",
    "\n",
    "\n",
    "\n",
    "fig = plot.figure(figsize=(10,10)) # Creates the figure.\n",
    "ax = fig.gca(projection='3d') # Creates the 3D figure.\n",
    "\n",
    "ax.scatter(x_cm_1, y_cm_1, z_cm_1, c='r', label='zs=0, zdir=x', s=2) # Plots the position data for the first halo.\n",
    "ax.scatter(x_cm_2, y_cm_2, z_cm_2, c='b', label='zs=0, zdir=x', s=2) # Plots the position data for the second halo.\n",
    "ax.scatter(x_cm_3, y_cm_3, z_cm_3, c='g', label='zs=0, zdir=x', s=2) # Plots the position data for the third halo.\n",
    "\n",
    "\n",
    "ax.view_init(elev=20., azim=-35) # Sets the horizontal and vertical angle in which we see the figure."
   ]
  },
  {
   "cell_type": "code",
   "execution_count": null,
   "metadata": {},
   "outputs": [],
   "source": [
    "# Plotting some subhalo velocity data : \n",
    "\n",
    "\n",
    "# Velocity data for every 5th subhalo within the first halo:\n",
    "x_vel_1 = sub_data['SubhaloVel'][0:24681:5,0] # x velocity data.\n",
    "y_vel_1 = sub_data['SubhaloVel'][0:24681:5,1] # y velocity data.\n",
    "z_vel_1 = sub_data['SubhaloVel'][0:24681:5,2] # z velocity data.\n",
    "\n",
    "\n",
    "# Velocity data for every 5th subhalo within the second halo:\n",
    "x_vel_2 = sub_data['SubhaloVel'][24681:44062:5,0] # x velocity data.\n",
    "y_vel_2 = sub_data['SubhaloVel'][24681:44062:5,1] # y velocity data.\n",
    "z_vel_2 = sub_data['SubhaloVel'][24681:44062:5,2] # z velocity data.\n",
    "\n",
    "\n",
    "# Velocity data for every 5th subhalo within the third halo:\n",
    "x_vel_3 = sub_data['SubhaloVel'][44062:59551:5,0] # x velocity data.\n",
    "y_vel_3 = sub_data['SubhaloVel'][44062:59551:5,1] # y velocity data.\n",
    "z_vel_3 = sub_data['SubhaloVel'][44062:59551:5,2] # z velocity data.\n",
    "\n",
    "\n",
    "\n",
    "fig = plot.figure(figsize=(10,10)) # Creates the figure.\n",
    "ax = fig.gca(projection='3d') # Creates the 3D figure.\n",
    "\n",
    "ax.scatter(x_vel_1, y_vel_1, z_vel_1, c='r', label='zs=0, zdir=x', s=2) # Plots the velocity data for the first halo.\n",
    "ax.scatter(x_vel_2, y_vel_2, z_vel_2, c='b', label='zs=0, zdir=x', s=2) # Plots the velocity data for the second halo.\n",
    "ax.scatter(x_vel_3, y_vel_3, z_vel_3, c='g', label='zs=0, zdir=x', s=2) # Plots the velocity data for the third halo.\n",
    "\n",
    "\n",
    "ax.view_init(elev=20., azim=-35) # Sets the horizontal and vertical angle in which we see the figure."
   ]
  },
  {
   "cell_type": "markdown",
   "metadata": {},
   "source": [
    "## ---------------------------------------------------------------------"
   ]
  },
  {
   "cell_type": "markdown",
   "metadata": {},
   "source": [
    "### Writing Data Into a Textfile"
   ]
  },
  {
   "cell_type": "code",
   "execution_count": null,
   "metadata": {},
   "outputs": [],
   "source": [
    "# For writing subhalo data onto a separate text file:\n",
    "\n",
    "\n",
    "cm_values = numpy.zeros(5012154) # Creates an array of appropraite size full of zeros. In this case the size is\n",
    "# the amount of subhalos in 'sub_data'.\n",
    "\n",
    "cm_values = sub_data['SubhaloCM'][0:100] # Grabs the position data (SubhaloCM) for a specified number of subhalos.\n",
    "# To grab other subhalos, say the 500th subhalo to the 1000th subhalo, you would\n",
    "# have cm_values = sub_data['SubhaloCM'][500:1000].\n",
    "\n",
    "for i in range(100): # Iterating over the amount of subhalos sepcified in the line of code above. In this case,\n",
    "    # it is iterating over the first 100 subhalos. The size of this range has to agree with the size of cm_values. \n",
    "    cm_x_value = cm_values[i:i+1:,0] # The x position data for a certain subhalo.\n",
    "    cm_y_value = cm_values[i:i+1:,1] # The y position data for a certain subhalo.\n",
    "    cm_z_value = cm_values[i:i+1:,2] # The z position data for a certain subhalo.\n",
    "    mass_value = sub_data['SubhaloMass'][i:i+1]\n",
    "    state_new = f\"{float(cm_x_value)}, {float(cm_y_value)}, {float(cm_z_value)}, {float(mass_value)}\\n\" # Takes the\n",
    "    # values of 'cm_x_value', 'cm_y_value', and 'cm_z_value' and puts them as floats so we get the raw number \n",
    "    # by itself. Then puts them in a neat orderly format. The \"/n\" ensures that when 'state_new' is written into\n",
    "    # a separate textfile each iteration of it is on a new line. \n",
    "    ####f = open(\"Sheldon's Project Data\", \"a+\") # Opens a textfiles named \"Sheldon's Project Data\". The \"a+\" tells\n",
    "    # it to either open the textfile if there is already one created with that name, or otherwise create a new one.\n",
    "    ####f.write(state_new) # Writes the information of the given argument onto the textfile. \n",
    "    # This command will only work with strings. \n",
    "    "
   ]
  },
  {
   "cell_type": "code",
   "execution_count": null,
   "metadata": {},
   "outputs": [],
   "source": [
    "# For writing the indices of 'fof_halo' onto a separate text file:\n",
    "\n",
    "for i in fof_halo: # Iterating over the starting indices of each halo (fof_halo).\n",
    "    ind = f\"{i}\\n\" # The \"/n\" ensures that when each index is written into\n",
    "    # a separate textfile it appears on a new line.\n",
    "    ####f = open(\"Sheldon's Project Data\", \"a+\") # Opens a textfiles named \"Sheldon's Project Data\". The \"a+\" tells\n",
    "    # it to either open the textfile if there is already one created with that name, or otherwise create a new one.\n",
    "    ####f.write(ind) # Writes the information of the given argument onto the textfile. This command will only \n",
    "    # work with strings. \n",
    "    "
   ]
  },
  {
   "cell_type": "markdown",
   "metadata": {},
   "source": [
    "## ---------------------------------------------------------------------"
   ]
  },
  {
   "cell_type": "markdown",
   "metadata": {},
   "source": [
    "### Velocity Dispersion Algorithm and Calculation\n",
    "\n",
    "This next part creates an algorithm that finds the velocity dispersion for any subhalo for which to compare to the SubhaloVelDisp field. Thanks to Dylan Nelson of the TNG staff, he gave us the direct code of how the SubhaloVelDisp field is calculated. This code is shown in the next cell. The forum of where I asked Dylan for this code can be found at: <br> https://www.tng-project.org/data/forum/topic/291/subhaloveldisp-calculation/"
   ]
  },
  {
   "cell_type": "raw",
   "metadata": {},
   "source": [
    "disp = 0;\n",
    "  mass = 0;\n",
    "\n",
    "  for(i = 0; i < num; i++)\n",
    "    {\n",
    "      for(j = 0; j < 3; j++)\n",
    "        {\n",
    "          ddxx = GRAVITY_NEAREST_X(P[p].Pos[j] - SubhaloCM[j]); // periodic distance\n",
    "          dx[j] = current_scalefactor * ddxx;\n",
    "          dv[j] = vel_to_phys * (P[p].Vel[j] - SubhaloCMVel[j]); // units to km/s\n",
    "          dv[j] += H_of_a * dx[j]; // hubble correction\n",
    "\n",
    "          disp += P[p].Mass * dv[j] * dv[j];\n",
    "       }\n",
    "       mass += P[p].Mass;\n",
    "   }\n",
    "veldisp = sqrt(disp / (3 * mass));    /* convert to 1d velocity dispersion */"
   ]
  },
  {
   "cell_type": "code",
   "execution_count": null,
   "metadata": {},
   "outputs": [],
   "source": [
    "# Trying to recreate the above code in Python, we set these two variables equal to 1:\n",
    "vel_to_phys = 1\n",
    "H_of_a = 1 \n",
    "\n",
    "\n",
    "dm_part_mass = (1.7 * 10**37)\n",
    "# To get this value, we take the mass of each particle in units of (mass of sun)/h, \n",
    "# which is 0.000599968882709879, and converted it to kg. Using h as 0.7, the calculation is as follows:\n",
    "\n",
    "# (0.000599968882709879 * (10**10) * (2 * 10**30)) / .7 = 1.7141968077425118e+37,\n",
    "# which can then be rounded to (1.7 * 10**37)."
   ]
  },
  {
   "cell_type": "code",
   "execution_count": null,
   "metadata": {},
   "outputs": [],
   "source": [
    "# If doing calculations to test the following algorithm, here is a copy of 'snap_sub' and 'sub_single' \n",
    "# for convenience (change the 'xx' to change which subhalo the data is for):\n",
    "\n",
    "xx = 100\n",
    "snap_sub = il.snapshot.loadSubhalo(basePath3, snapNum, xx, 'dm', fields=['Velocities'])\n",
    "sub_single = il.groupcat.loadSingle(basePath3, snapNum, subhaloID=xx)"
   ]
  },
  {
   "cell_type": "code",
   "execution_count": null,
   "metadata": {},
   "outputs": [],
   "source": [
    "# A recreated Python algorithm of the code Dylan Nelson sent us that \n",
    "# finds the velocity dispersion for a specified subhalo.  \n",
    "\n",
    "disp = 0\n",
    "mass = 0\n",
    "\n",
    "for i in range(len(snap_sub)):\n",
    "    # This next If Statement is a progress bar of sorts which tells you how far along in the \n",
    "    # For Loop you are. This is useful for when the For Loop takes a while.  \n",
    "    # The '0.1' means it updates you every 10%. Changing that number to, say, 0.05, will update you every 5%. \n",
    "    if (i%(int(len(range(len(snap_sub)))*0.1)) == 0):\n",
    "        print(f\"{round(i/(len(snap_sub))*100)} % completed\")\n",
    "    for j in range(3): # This has j loop over 1, 2, then 3, making it loop over the x, y, then z data, respectively. \n",
    "        dx = 1\n",
    "        dv = vel_to_phys * (snap_sub[i,j] - sub_single['SubhaloVel'][j])\n",
    "        dv += H_of_a * dx # Multiplying 'H_of_a' by 'dx' and summing.\n",
    "\n",
    "        disp += dm_part_mass * dv * dv # Multiplying the mass of each particle by dv^2 and summing.\n",
    "\n",
    "mass = dm_part_mass * len(snap_sub) # Multiplying the mass of each particle by the number \n",
    "# of particles to get the total mass of the subhalo. \n",
    "\n",
    "veldisp = math.sqrt(disp / (3 * mass)) # Calculating the 1-dimensional velocity dispersion. \n",
    "\n",
    "print(f'For subhalo {xx}, the velocity disperion is: ', veldisp)"
   ]
  },
  {
   "cell_type": "code",
   "execution_count": null,
   "metadata": {},
   "outputs": [],
   "source": [
    "sub_veldisp[xx] \n",
    "\n",
    "# This is to compare the velocity dispersion value that Illustris gets from the 'SubhaloVelDisp' field\n",
    "# to the one I get from my algorithm above. "
   ]
  },
  {
   "cell_type": "code",
   "execution_count": null,
   "metadata": {},
   "outputs": [],
   "source": [
    "# Using my algorithm I have found some velocity dispersion values to compare against Illustris's. \n",
    "# These variable I have created are for use in making scatter plots of the values, which can be found below.\n",
    "# The 'my_list' variables are the values I have found using my algorithm, while the \n",
    "# 'tng_list' variables are the values of the 'SubhaloVelDisp' field. \n",
    "\n",
    "# Velocity dispersion values for the 2nd-20th subhalos in the 1st halo:\n",
    "my_list1 = [358.85717721926443, 296.55914644840783, 176.02729816472936, 164.29722903311412, 196.19309977469376,\n",
    "            211.73211229265092, 184.19385915415853, 140.53884415287467, 154.48485966297258, 151.59742712813375,\n",
    "            141.89242362171993, 168.83312908294013, 145.55366722278384, 122.86920046434867, 160.2417349130176,\n",
    "            134.5820861104571, 107.24244978829024, 98.57061096510469, 117.2661539690525]\n",
    "tng_list1 = sub_veldisp[1:1+19] # Selects the same 20 corresponding values from SubhaloVelDisp.\n",
    "\n",
    "\n",
    "\n",
    "# Velocity dispersion values for the 2nd-20th subhalos in the 10th halo:\n",
    "my_list10 = [183.08893909665161, 185.676973450239, 155.64073128374005, 121.67514981571182, 158.44050486454162,\n",
    "             197.0508757530513, 106.82512552385744, 110.06943666534242, 134.79451782526533, 107.21123248279473,\n",
    "             90.88424348896876, 83.25337611157207, 102.04161642281576, 112.76087585628856, 90.04869990730047,\n",
    "             78.6138901592146, 72.06952495157716, 92.2883425428652, 85.54473498033197]\n",
    "tng_list10 = sub_veldisp[133261:133261+19] # Selects the same 20 corresponding values from SubhaloVelDisp.\n",
    "\n",
    "\n",
    "\n",
    "# Velocity dispersion values for the 2nd-20th subhalos in the 201st halo:\n",
    "my_list201 = [129.34764004169506, 97.64437335843, 73.27014960823567, 59.6958194835886, 52.9216030185098,\n",
    "              77.5959053903195, 55.112009164117275, 40.26697440527795, 37.249458525466245, 35.70190840061877,\n",
    "              34.6464096337724, 36.582946504326145, 28.604445329160946, 35.96519402016524, 33.19629150236464,\n",
    "              43.49463095117263, 34.972340539936575, 32.67471742159477, 30.418737237478535]\n",
    "tng_list201 = sub_veldisp[446764:446764+19] # Selects the same 20 corresponding values from SubhaloVelDisp\n"
   ]
  },
  {
   "cell_type": "code",
   "execution_count": null,
   "metadata": {},
   "outputs": [],
   "source": [
    "# Plot of the vel disp data for the 2nd-20th subhalos in the 1st halo.\n",
    "\n",
    "# 'my_list1' are values of the vel disp that I calculated, while 'tng_list1' are Illustris's values of the \n",
    "# vel disp from the 'SubhaloVelDisp' field.\n",
    "\n",
    "plot.scatter(my_list1, tng_list1, color='k') # Creating the scatter plot and setting the color.\n",
    "plot.title(\"Velocity Dispersion for the 1st Halo\") # Titling the plot.\n",
    "plot.xlabel(\"My Values\") # Labelling the x-axis.\n",
    "plot.ylabel(\"TNG's Values\") # Labelling the y-axis.\n",
    "\n",
    "# Setting the x-axis and y-axis over the same ranges:\n",
    "plot.xlim(70, 400) # Sets the x limits.\n",
    "plot.ylim(70, 400) # Sets the y limits. "
   ]
  },
  {
   "cell_type": "code",
   "execution_count": null,
   "metadata": {},
   "outputs": [],
   "source": [
    "# Plot of the vel disp data for the 2nd-20th subhalos in the 10th halo.\n",
    "\n",
    "# 'my_list10' are values of the vel disp that I calculated, while 'tng_list10' are Illustris's values of the \n",
    "# vel disp from the 'SubhaloVelDisp' field.\n",
    "\n",
    "plot.scatter(my_list10, tng_list10, color='b') # Creating the scatter plot and setting the color. \n",
    "plot.title(\"Velocity Dispersion for the 10th Halo\") # Titling the plot. \n",
    "plot.xlabel(\"My Values\") # Labelling the x-axis.\n",
    "plot.ylabel(\"TNG's Values\") # Labelling the y-axis.\n",
    "\n",
    "# Setting the x-axis and y-axis over the same ranges:\n",
    "plot.xlim(60, 210) # Sets the x limits.\n",
    "plot.ylim(60, 210) # Sets the y limits."
   ]
  },
  {
   "cell_type": "code",
   "execution_count": null,
   "metadata": {},
   "outputs": [],
   "source": [
    "# Plot of the vel disp data for the 2st-20th subhalos in the 201st halo\n",
    "\n",
    "# 'my_list201' are values of the vel disp that I calculated, while 'tng_list201' are Illustris's values of the \n",
    "# vel disp from the 'SubhaloVelDisp' field.\n",
    "\n",
    "plot.scatter(my_list201, tng_list201, color='g') # Creating the scatter plot and setting the color.\n",
    "plot.title(\"Velocity Dispersion for the 201st Halo\") # Titling the plot.\n",
    "plot.xlabel(\"My Values\") # Labelling the x-axis.\n",
    "plot.ylabel(\"TNG's Values\") # Labelling the y-axis.\n",
    "\n",
    "# Setting the x-axis and y-axis over the same ranges:\n",
    "plot.xlim(20, 150) # Sets the x limits.\n",
    "plot.ylim(20, 150) # Sets the y limits."
   ]
  },
  {
   "cell_type": "code",
   "execution_count": 10,
   "metadata": {},
   "outputs": [
    {
     "ename": "NameError",
     "evalue": "name 'basePath3' is not defined",
     "output_type": "error",
     "traceback": [
      "\u001b[0;31m---------------------------------------------------------------------------\u001b[0m",
      "\u001b[0;31mNameError\u001b[0m                                 Traceback (most recent call last)",
      "\u001b[0;32m<ipython-input-10-fcbc2c35a193>\u001b[0m in \u001b[0;36m<module>\u001b[0;34m\u001b[0m\n\u001b[0;32m----> 1\u001b[0;31m \u001b[0msub_veldisp\u001b[0m \u001b[0;34m=\u001b[0m \u001b[0mil\u001b[0m\u001b[0;34m.\u001b[0m\u001b[0mgroupcat\u001b[0m\u001b[0;34m.\u001b[0m\u001b[0mloadSubhalos\u001b[0m\u001b[0;34m(\u001b[0m\u001b[0mbasePath3\u001b[0m\u001b[0;34m,\u001b[0m \u001b[0msnapNum\u001b[0m\u001b[0;34m,\u001b[0m \u001b[0mfields\u001b[0m\u001b[0;34m=\u001b[0m\u001b[0;34m[\u001b[0m\u001b[0;34m'SubhaloVelDisp'\u001b[0m\u001b[0;34m]\u001b[0m\u001b[0;34m)\u001b[0m\u001b[0;34m\u001b[0m\u001b[0;34m\u001b[0m\u001b[0m\n\u001b[0m\u001b[1;32m      2\u001b[0m \u001b[0;34m\u001b[0m\u001b[0m\n\u001b[1;32m      3\u001b[0m \u001b[0;31m# Loads in velocity dispersion data of all the subhalos from the Group Catalog for the\u001b[0m\u001b[0;34m\u001b[0m\u001b[0;34m\u001b[0m\u001b[0;34m\u001b[0m\u001b[0m\n\u001b[1;32m      4\u001b[0m \u001b[0;31m# specified basePath and snapNum.\u001b[0m\u001b[0;34m\u001b[0m\u001b[0;34m\u001b[0m\u001b[0;34m\u001b[0m\u001b[0m\n\u001b[1;32m      5\u001b[0m \u001b[0;34m\u001b[0m\u001b[0m\n",
      "\u001b[0;31mNameError\u001b[0m: name 'basePath3' is not defined"
     ]
    }
   ],
   "source": [
    "sub_veldisp = il.groupcat.loadSubhalos(basePath3, snapNum, fields=['SubhaloVelDisp'])\n",
    "\n",
    "# Loads in velocity dispersion data of all the subhalos from the Group Catalog for the \n",
    "# specified basePath and snapNum.\n",
    "\n",
    "# This gives you the 1-dimensional velocity dispersion for each subhalo. "
   ]
  },
  {
   "cell_type": "code",
   "execution_count": null,
   "metadata": {},
   "outputs": [],
   "source": []
  }
 ],
 "metadata": {
  "kernelspec": {
   "display_name": "Python 3",
   "language": "python",
   "name": "python3"
  },
  "language_info": {
   "codemirror_mode": {
    "name": "ipython",
    "version": 3
   },
   "file_extension": ".py",
   "mimetype": "text/x-python",
   "name": "python",
   "nbconvert_exporter": "python",
   "pygments_lexer": "ipython3",
   "version": "3.8.8"
  }
 },
 "nbformat": 4,
 "nbformat_minor": 4
}
